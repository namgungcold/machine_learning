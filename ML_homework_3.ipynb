{
 "cells": [
  {
   "cell_type": "markdown",
   "id": "2b8a674d-910a-4729-91cf-6444a26b5b95",
   "metadata": {},
   "source": [
    "# **머신러닝 실습 과제 Task 3**\n",
    "\n",
    "## 실습과제 소개\n",
    "- 본 과제는 주고객이 구매하지 않은 상품에 대해 요금이 청구되지 않도록 신용카드 회사가 `신용카드 사기 거래를 식별`하는 것이 목표입니다.\n",
    "- Task3에서는 Randomforest와 GridSearch를 이용해서 예측을 수행해보려 합니다. \n",
    "\n",
    "## 파일 구성\n",
    " - **creditcard.csv**:\n",
    "\n",
    "## 특성(feature), 타켓(target)설명\n",
    " - feature\n",
    "     - `Time` : 거래 시간\n",
    "     - `amount` : 거래 양\n",
    "     - `v1` ~ `v23` feature들은 익명처리되어 있습니다.\n",
    " - target\n",
    "     - `Class`: 0->정상 거래, 1->사기 거래, \n",
    "\n",
    "## 평가 측도\n",
    " - **`Accuracy`**: 높을수록 좋음\n",
    "\n",
    "## 제출 안내\n",
    " - 스마트리드 과제란에 주피터 노트북 파일을 제출 (본인학번_이름_ML_homework3.ipynb)로 저장."
   ]
  },
  {
   "cell_type": "markdown",
   "id": "e040ba48-8b94-431c-9fae-14f1471348f5",
   "metadata": {
    "tags": []
   },
   "source": [
    "## Task2 과제 내용"
   ]
  },
  {
   "cell_type": "code",
   "execution_count": 3,
   "id": "f48228b6-a7bb-4ce7-b4c4-0c7adcbe3dfe",
   "metadata": {
    "tags": []
   },
   "outputs": [
    {
     "data": {
      "text/html": [
       "        <script type=\"text/javascript\">\n",
       "        window.PlotlyConfig = {MathJaxConfig: 'local'};\n",
       "        if (window.MathJax && window.MathJax.Hub && window.MathJax.Hub.Config) {window.MathJax.Hub.Config({SVG: {font: \"STIX-Web\"}});}\n",
       "        if (typeof require !== 'undefined') {\n",
       "        require.undef(\"plotly\");\n",
       "        requirejs.config({\n",
       "            paths: {\n",
       "                'plotly': ['https://cdn.plot.ly/plotly-2.27.0.min']\n",
       "            }\n",
       "        });\n",
       "        require(['plotly'], function(Plotly) {\n",
       "            window._Plotly = Plotly;\n",
       "        });\n",
       "        }\n",
       "        </script>\n",
       "        "
      ]
     },
     "metadata": {},
     "output_type": "display_data"
    },
    {
     "data": {
      "text/html": [
       "        <script type=\"text/javascript\">\n",
       "        window.PlotlyConfig = {MathJaxConfig: 'local'};\n",
       "        if (window.MathJax && window.MathJax.Hub && window.MathJax.Hub.Config) {window.MathJax.Hub.Config({SVG: {font: \"STIX-Web\"}});}\n",
       "        if (typeof require !== 'undefined') {\n",
       "        require.undef(\"plotly\");\n",
       "        requirejs.config({\n",
       "            paths: {\n",
       "                'plotly': ['https://cdn.plot.ly/plotly-2.27.0.min']\n",
       "            }\n",
       "        });\n",
       "        require(['plotly'], function(Plotly) {\n",
       "            window._Plotly = Plotly;\n",
       "        });\n",
       "        }\n",
       "        </script>\n",
       "        "
      ]
     },
     "metadata": {},
     "output_type": "display_data"
    }
   ],
   "source": [
    "# Importing necessary libraries\n",
    "\n",
    "import numpy as np\n",
    "import pandas as pd\n",
    "import math\n",
    "import matplotlib.pyplot as plt\n",
    "import seaborn as sns\n",
    "import plotly.express as px\n",
    "\n",
    "\n",
    "from plotly.subplots import make_subplots\n",
    "import plotly.graph_objects as go\n",
    "from plotly.offline import init_notebook_mode, iplot\n",
    "init_notebook_mode(connected=True)\n",
    "\n",
    "import plotly.offline as pyo\n",
    "pyo.init_notebook_mode(connected=True)\n",
    "\n",
    "import shutil\n",
    "columns = shutil.get_terminal_size().columns\n",
    "\n",
    "from sklearn.model_selection import train_test_split\n",
    "from sklearn import metrics\n",
    "from sklearn.preprocessing import MinMaxScaler\n",
    "\n",
    "# from sklearn.metrics import plot_confusion_matrix\n",
    "from sklearn.metrics import average_precision_score\n",
    "from sklearn.model_selection import GridSearchCV\n",
    "\n",
    "\n",
    "from sklearn.linear_model import LogisticRegression\n",
    "from sklearn.linear_model import RidgeClassifier\n",
    "from sklearn.tree import DecisionTreeClassifier\n",
    "\n",
    "import imblearn\n",
    "from imblearn.under_sampling import RandomUnderSampler\n",
    "from imblearn.over_sampling import RandomOverSampler\n",
    "\n",
    "\n",
    "from IPython.display import Javascript\n",
    "from IPython.display import display"
   ]
  },
  {
   "cell_type": "code",
   "execution_count": 4,
   "id": "e6334046-8fa4-433d-aee9-eb85db0e762e",
   "metadata": {
    "tags": []
   },
   "outputs": [],
   "source": [
    "# os.environ[\"PATH\"] += os.pathsep + \"C:/Program Files (x86)/Graphviz2.38/bin/\""
   ]
  },
  {
   "cell_type": "markdown",
   "id": "99357839-8341-4b2f-b311-2ca2e3213afb",
   "metadata": {},
   "source": [
    "### 데이터 불러오기 "
   ]
  },
  {
   "cell_type": "code",
   "execution_count": 5,
   "id": "68017f27-5f47-4bb3-b920-bbb6cd2ed530",
   "metadata": {
    "tags": []
   },
   "outputs": [
    {
     "data": {
      "text/plain": [
       "'C:\\\\Users\\\\chan\\\\Downloads\\\\202310101_홍길동_ML_homework_3'"
      ]
     },
     "execution_count": 5,
     "metadata": {},
     "output_type": "execute_result"
    }
   ],
   "source": [
    "pwd "
   ]
  },
  {
   "cell_type": "code",
   "execution_count": 6,
   "id": "d6cbda73-2b21-4c28-9c80-cac699ef071f",
   "metadata": {
    "tags": []
   },
   "outputs": [
    {
     "data": {
      "text/html": [
       "<div>\n",
       "<style scoped>\n",
       "    .dataframe tbody tr th:only-of-type {\n",
       "        vertical-align: middle;\n",
       "    }\n",
       "\n",
       "    .dataframe tbody tr th {\n",
       "        vertical-align: top;\n",
       "    }\n",
       "\n",
       "    .dataframe thead th {\n",
       "        text-align: right;\n",
       "    }\n",
       "</style>\n",
       "<table border=\"1\" class=\"dataframe\">\n",
       "  <thead>\n",
       "    <tr style=\"text-align: right;\">\n",
       "      <th></th>\n",
       "      <th>Time</th>\n",
       "      <th>V1</th>\n",
       "      <th>V2</th>\n",
       "      <th>V3</th>\n",
       "      <th>V4</th>\n",
       "      <th>V5</th>\n",
       "      <th>V6</th>\n",
       "      <th>V7</th>\n",
       "      <th>V8</th>\n",
       "      <th>V9</th>\n",
       "      <th>...</th>\n",
       "      <th>V21</th>\n",
       "      <th>V22</th>\n",
       "      <th>V23</th>\n",
       "      <th>V24</th>\n",
       "      <th>V25</th>\n",
       "      <th>V26</th>\n",
       "      <th>V27</th>\n",
       "      <th>V28</th>\n",
       "      <th>Amount</th>\n",
       "      <th>Class</th>\n",
       "    </tr>\n",
       "  </thead>\n",
       "  <tbody>\n",
       "    <tr>\n",
       "      <th>0</th>\n",
       "      <td>0.0</td>\n",
       "      <td>-1.359807</td>\n",
       "      <td>-0.072781</td>\n",
       "      <td>2.536347</td>\n",
       "      <td>1.378155</td>\n",
       "      <td>-0.338321</td>\n",
       "      <td>0.462388</td>\n",
       "      <td>0.239599</td>\n",
       "      <td>0.098698</td>\n",
       "      <td>0.363787</td>\n",
       "      <td>...</td>\n",
       "      <td>-0.018307</td>\n",
       "      <td>0.277838</td>\n",
       "      <td>-0.110474</td>\n",
       "      <td>0.066928</td>\n",
       "      <td>0.128539</td>\n",
       "      <td>-0.189115</td>\n",
       "      <td>0.133558</td>\n",
       "      <td>-0.021053</td>\n",
       "      <td>149.62</td>\n",
       "      <td>0</td>\n",
       "    </tr>\n",
       "    <tr>\n",
       "      <th>1</th>\n",
       "      <td>0.0</td>\n",
       "      <td>1.191857</td>\n",
       "      <td>0.266151</td>\n",
       "      <td>0.166480</td>\n",
       "      <td>0.448154</td>\n",
       "      <td>0.060018</td>\n",
       "      <td>-0.082361</td>\n",
       "      <td>-0.078803</td>\n",
       "      <td>0.085102</td>\n",
       "      <td>-0.255425</td>\n",
       "      <td>...</td>\n",
       "      <td>-0.225775</td>\n",
       "      <td>-0.638672</td>\n",
       "      <td>0.101288</td>\n",
       "      <td>-0.339846</td>\n",
       "      <td>0.167170</td>\n",
       "      <td>0.125895</td>\n",
       "      <td>-0.008983</td>\n",
       "      <td>0.014724</td>\n",
       "      <td>2.69</td>\n",
       "      <td>0</td>\n",
       "    </tr>\n",
       "    <tr>\n",
       "      <th>2</th>\n",
       "      <td>1.0</td>\n",
       "      <td>-1.358354</td>\n",
       "      <td>-1.340163</td>\n",
       "      <td>1.773209</td>\n",
       "      <td>0.379780</td>\n",
       "      <td>-0.503198</td>\n",
       "      <td>1.800499</td>\n",
       "      <td>0.791461</td>\n",
       "      <td>0.247676</td>\n",
       "      <td>-1.514654</td>\n",
       "      <td>...</td>\n",
       "      <td>0.247998</td>\n",
       "      <td>0.771679</td>\n",
       "      <td>0.909412</td>\n",
       "      <td>-0.689281</td>\n",
       "      <td>-0.327642</td>\n",
       "      <td>-0.139097</td>\n",
       "      <td>-0.055353</td>\n",
       "      <td>-0.059752</td>\n",
       "      <td>378.66</td>\n",
       "      <td>0</td>\n",
       "    </tr>\n",
       "    <tr>\n",
       "      <th>3</th>\n",
       "      <td>1.0</td>\n",
       "      <td>-0.966272</td>\n",
       "      <td>-0.185226</td>\n",
       "      <td>1.792993</td>\n",
       "      <td>-0.863291</td>\n",
       "      <td>-0.010309</td>\n",
       "      <td>1.247203</td>\n",
       "      <td>0.237609</td>\n",
       "      <td>0.377436</td>\n",
       "      <td>-1.387024</td>\n",
       "      <td>...</td>\n",
       "      <td>-0.108300</td>\n",
       "      <td>0.005274</td>\n",
       "      <td>-0.190321</td>\n",
       "      <td>-1.175575</td>\n",
       "      <td>0.647376</td>\n",
       "      <td>-0.221929</td>\n",
       "      <td>0.062723</td>\n",
       "      <td>0.061458</td>\n",
       "      <td>123.50</td>\n",
       "      <td>0</td>\n",
       "    </tr>\n",
       "    <tr>\n",
       "      <th>4</th>\n",
       "      <td>2.0</td>\n",
       "      <td>-1.158233</td>\n",
       "      <td>0.877737</td>\n",
       "      <td>1.548718</td>\n",
       "      <td>0.403034</td>\n",
       "      <td>-0.407193</td>\n",
       "      <td>0.095921</td>\n",
       "      <td>0.592941</td>\n",
       "      <td>-0.270533</td>\n",
       "      <td>0.817739</td>\n",
       "      <td>...</td>\n",
       "      <td>-0.009431</td>\n",
       "      <td>0.798278</td>\n",
       "      <td>-0.137458</td>\n",
       "      <td>0.141267</td>\n",
       "      <td>-0.206010</td>\n",
       "      <td>0.502292</td>\n",
       "      <td>0.219422</td>\n",
       "      <td>0.215153</td>\n",
       "      <td>69.99</td>\n",
       "      <td>0</td>\n",
       "    </tr>\n",
       "    <tr>\n",
       "      <th>...</th>\n",
       "      <td>...</td>\n",
       "      <td>...</td>\n",
       "      <td>...</td>\n",
       "      <td>...</td>\n",
       "      <td>...</td>\n",
       "      <td>...</td>\n",
       "      <td>...</td>\n",
       "      <td>...</td>\n",
       "      <td>...</td>\n",
       "      <td>...</td>\n",
       "      <td>...</td>\n",
       "      <td>...</td>\n",
       "      <td>...</td>\n",
       "      <td>...</td>\n",
       "      <td>...</td>\n",
       "      <td>...</td>\n",
       "      <td>...</td>\n",
       "      <td>...</td>\n",
       "      <td>...</td>\n",
       "      <td>...</td>\n",
       "      <td>...</td>\n",
       "    </tr>\n",
       "    <tr>\n",
       "      <th>284802</th>\n",
       "      <td>172786.0</td>\n",
       "      <td>-11.881118</td>\n",
       "      <td>10.071785</td>\n",
       "      <td>-9.834783</td>\n",
       "      <td>-2.066656</td>\n",
       "      <td>-5.364473</td>\n",
       "      <td>-2.606837</td>\n",
       "      <td>-4.918215</td>\n",
       "      <td>7.305334</td>\n",
       "      <td>1.914428</td>\n",
       "      <td>...</td>\n",
       "      <td>0.213454</td>\n",
       "      <td>0.111864</td>\n",
       "      <td>1.014480</td>\n",
       "      <td>-0.509348</td>\n",
       "      <td>1.436807</td>\n",
       "      <td>0.250034</td>\n",
       "      <td>0.943651</td>\n",
       "      <td>0.823731</td>\n",
       "      <td>0.77</td>\n",
       "      <td>0</td>\n",
       "    </tr>\n",
       "    <tr>\n",
       "      <th>284803</th>\n",
       "      <td>172787.0</td>\n",
       "      <td>-0.732789</td>\n",
       "      <td>-0.055080</td>\n",
       "      <td>2.035030</td>\n",
       "      <td>-0.738589</td>\n",
       "      <td>0.868229</td>\n",
       "      <td>1.058415</td>\n",
       "      <td>0.024330</td>\n",
       "      <td>0.294869</td>\n",
       "      <td>0.584800</td>\n",
       "      <td>...</td>\n",
       "      <td>0.214205</td>\n",
       "      <td>0.924384</td>\n",
       "      <td>0.012463</td>\n",
       "      <td>-1.016226</td>\n",
       "      <td>-0.606624</td>\n",
       "      <td>-0.395255</td>\n",
       "      <td>0.068472</td>\n",
       "      <td>-0.053527</td>\n",
       "      <td>24.79</td>\n",
       "      <td>0</td>\n",
       "    </tr>\n",
       "    <tr>\n",
       "      <th>284804</th>\n",
       "      <td>172788.0</td>\n",
       "      <td>1.919565</td>\n",
       "      <td>-0.301254</td>\n",
       "      <td>-3.249640</td>\n",
       "      <td>-0.557828</td>\n",
       "      <td>2.630515</td>\n",
       "      <td>3.031260</td>\n",
       "      <td>-0.296827</td>\n",
       "      <td>0.708417</td>\n",
       "      <td>0.432454</td>\n",
       "      <td>...</td>\n",
       "      <td>0.232045</td>\n",
       "      <td>0.578229</td>\n",
       "      <td>-0.037501</td>\n",
       "      <td>0.640134</td>\n",
       "      <td>0.265745</td>\n",
       "      <td>-0.087371</td>\n",
       "      <td>0.004455</td>\n",
       "      <td>-0.026561</td>\n",
       "      <td>67.88</td>\n",
       "      <td>0</td>\n",
       "    </tr>\n",
       "    <tr>\n",
       "      <th>284805</th>\n",
       "      <td>172788.0</td>\n",
       "      <td>-0.240440</td>\n",
       "      <td>0.530483</td>\n",
       "      <td>0.702510</td>\n",
       "      <td>0.689799</td>\n",
       "      <td>-0.377961</td>\n",
       "      <td>0.623708</td>\n",
       "      <td>-0.686180</td>\n",
       "      <td>0.679145</td>\n",
       "      <td>0.392087</td>\n",
       "      <td>...</td>\n",
       "      <td>0.265245</td>\n",
       "      <td>0.800049</td>\n",
       "      <td>-0.163298</td>\n",
       "      <td>0.123205</td>\n",
       "      <td>-0.569159</td>\n",
       "      <td>0.546668</td>\n",
       "      <td>0.108821</td>\n",
       "      <td>0.104533</td>\n",
       "      <td>10.00</td>\n",
       "      <td>0</td>\n",
       "    </tr>\n",
       "    <tr>\n",
       "      <th>284806</th>\n",
       "      <td>172792.0</td>\n",
       "      <td>-0.533413</td>\n",
       "      <td>-0.189733</td>\n",
       "      <td>0.703337</td>\n",
       "      <td>-0.506271</td>\n",
       "      <td>-0.012546</td>\n",
       "      <td>-0.649617</td>\n",
       "      <td>1.577006</td>\n",
       "      <td>-0.414650</td>\n",
       "      <td>0.486180</td>\n",
       "      <td>...</td>\n",
       "      <td>0.261057</td>\n",
       "      <td>0.643078</td>\n",
       "      <td>0.376777</td>\n",
       "      <td>0.008797</td>\n",
       "      <td>-0.473649</td>\n",
       "      <td>-0.818267</td>\n",
       "      <td>-0.002415</td>\n",
       "      <td>0.013649</td>\n",
       "      <td>217.00</td>\n",
       "      <td>0</td>\n",
       "    </tr>\n",
       "  </tbody>\n",
       "</table>\n",
       "<p>284807 rows × 31 columns</p>\n",
       "</div>"
      ],
      "text/plain": [
       "            Time         V1         V2        V3        V4        V5  \\\n",
       "0            0.0  -1.359807  -0.072781  2.536347  1.378155 -0.338321   \n",
       "1            0.0   1.191857   0.266151  0.166480  0.448154  0.060018   \n",
       "2            1.0  -1.358354  -1.340163  1.773209  0.379780 -0.503198   \n",
       "3            1.0  -0.966272  -0.185226  1.792993 -0.863291 -0.010309   \n",
       "4            2.0  -1.158233   0.877737  1.548718  0.403034 -0.407193   \n",
       "...          ...        ...        ...       ...       ...       ...   \n",
       "284802  172786.0 -11.881118  10.071785 -9.834783 -2.066656 -5.364473   \n",
       "284803  172787.0  -0.732789  -0.055080  2.035030 -0.738589  0.868229   \n",
       "284804  172788.0   1.919565  -0.301254 -3.249640 -0.557828  2.630515   \n",
       "284805  172788.0  -0.240440   0.530483  0.702510  0.689799 -0.377961   \n",
       "284806  172792.0  -0.533413  -0.189733  0.703337 -0.506271 -0.012546   \n",
       "\n",
       "              V6        V7        V8        V9  ...       V21       V22  \\\n",
       "0       0.462388  0.239599  0.098698  0.363787  ... -0.018307  0.277838   \n",
       "1      -0.082361 -0.078803  0.085102 -0.255425  ... -0.225775 -0.638672   \n",
       "2       1.800499  0.791461  0.247676 -1.514654  ...  0.247998  0.771679   \n",
       "3       1.247203  0.237609  0.377436 -1.387024  ... -0.108300  0.005274   \n",
       "4       0.095921  0.592941 -0.270533  0.817739  ... -0.009431  0.798278   \n",
       "...          ...       ...       ...       ...  ...       ...       ...   \n",
       "284802 -2.606837 -4.918215  7.305334  1.914428  ...  0.213454  0.111864   \n",
       "284803  1.058415  0.024330  0.294869  0.584800  ...  0.214205  0.924384   \n",
       "284804  3.031260 -0.296827  0.708417  0.432454  ...  0.232045  0.578229   \n",
       "284805  0.623708 -0.686180  0.679145  0.392087  ...  0.265245  0.800049   \n",
       "284806 -0.649617  1.577006 -0.414650  0.486180  ...  0.261057  0.643078   \n",
       "\n",
       "             V23       V24       V25       V26       V27       V28  Amount  \\\n",
       "0      -0.110474  0.066928  0.128539 -0.189115  0.133558 -0.021053  149.62   \n",
       "1       0.101288 -0.339846  0.167170  0.125895 -0.008983  0.014724    2.69   \n",
       "2       0.909412 -0.689281 -0.327642 -0.139097 -0.055353 -0.059752  378.66   \n",
       "3      -0.190321 -1.175575  0.647376 -0.221929  0.062723  0.061458  123.50   \n",
       "4      -0.137458  0.141267 -0.206010  0.502292  0.219422  0.215153   69.99   \n",
       "...          ...       ...       ...       ...       ...       ...     ...   \n",
       "284802  1.014480 -0.509348  1.436807  0.250034  0.943651  0.823731    0.77   \n",
       "284803  0.012463 -1.016226 -0.606624 -0.395255  0.068472 -0.053527   24.79   \n",
       "284804 -0.037501  0.640134  0.265745 -0.087371  0.004455 -0.026561   67.88   \n",
       "284805 -0.163298  0.123205 -0.569159  0.546668  0.108821  0.104533   10.00   \n",
       "284806  0.376777  0.008797 -0.473649 -0.818267 -0.002415  0.013649  217.00   \n",
       "\n",
       "        Class  \n",
       "0           0  \n",
       "1           0  \n",
       "2           0  \n",
       "3           0  \n",
       "4           0  \n",
       "...       ...  \n",
       "284802      0  \n",
       "284803      0  \n",
       "284804      0  \n",
       "284805      0  \n",
       "284806      0  \n",
       "\n",
       "[284807 rows x 31 columns]"
      ]
     },
     "execution_count": 6,
     "metadata": {},
     "output_type": "execute_result"
    }
   ],
   "source": [
    "data = pd.read_csv('./creditcard.csv')\n",
    "data"
   ]
  },
  {
   "cell_type": "code",
   "execution_count": 7,
   "id": "518b0000-a03a-4257-a6a1-ee8a94ea7341",
   "metadata": {
    "tags": []
   },
   "outputs": [
    {
     "name": "stdout",
     "output_type": "stream",
     "text": [
      "<class 'pandas.core.frame.DataFrame'>\n",
      "RangeIndex: 284807 entries, 0 to 284806\n",
      "Data columns (total 31 columns):\n",
      " #   Column  Non-Null Count   Dtype  \n",
      "---  ------  --------------   -----  \n",
      " 0   Time    284807 non-null  float64\n",
      " 1   V1      284807 non-null  float64\n",
      " 2   V2      284807 non-null  float64\n",
      " 3   V3      284807 non-null  float64\n",
      " 4   V4      284807 non-null  float64\n",
      " 5   V5      284807 non-null  float64\n",
      " 6   V6      284807 non-null  float64\n",
      " 7   V7      284807 non-null  float64\n",
      " 8   V8      284807 non-null  float64\n",
      " 9   V9      284807 non-null  float64\n",
      " 10  V10     284807 non-null  float64\n",
      " 11  V11     284807 non-null  float64\n",
      " 12  V12     284807 non-null  float64\n",
      " 13  V13     284807 non-null  float64\n",
      " 14  V14     284807 non-null  float64\n",
      " 15  V15     284807 non-null  float64\n",
      " 16  V16     284807 non-null  float64\n",
      " 17  V17     284807 non-null  float64\n",
      " 18  V18     284807 non-null  float64\n",
      " 19  V19     284807 non-null  float64\n",
      " 20  V20     284807 non-null  float64\n",
      " 21  V21     284807 non-null  float64\n",
      " 22  V22     284807 non-null  float64\n",
      " 23  V23     284807 non-null  float64\n",
      " 24  V24     284807 non-null  float64\n",
      " 25  V25     284807 non-null  float64\n",
      " 26  V26     284807 non-null  float64\n",
      " 27  V27     284807 non-null  float64\n",
      " 28  V28     284807 non-null  float64\n",
      " 29  Amount  284807 non-null  float64\n",
      " 30  Class   284807 non-null  int64  \n",
      "dtypes: float64(30), int64(1)\n",
      "memory usage: 67.4 MB\n"
     ]
    }
   ],
   "source": [
    "data.info()"
   ]
  },
  {
   "cell_type": "code",
   "execution_count": 8,
   "id": "dbea0dd8-9360-4f0c-84e4-43c541590b34",
   "metadata": {
    "tags": []
   },
   "outputs": [
    {
     "data": {
      "text/plain": [
       "Time      124592\n",
       "V1        275663\n",
       "V2        275663\n",
       "V3        275663\n",
       "V4        275663\n",
       "V5        275663\n",
       "V6        275663\n",
       "V7        275663\n",
       "V8        275663\n",
       "V9        275663\n",
       "V10       275663\n",
       "V11       275663\n",
       "V12       275663\n",
       "V13       275663\n",
       "V14       275663\n",
       "V15       275663\n",
       "V16       275663\n",
       "V17       275663\n",
       "V18       275663\n",
       "V19       275663\n",
       "V20       275663\n",
       "V21       275663\n",
       "V22       275663\n",
       "V23       275663\n",
       "V24       275663\n",
       "V25       275663\n",
       "V26       275663\n",
       "V27       275663\n",
       "V28       275663\n",
       "Amount     32767\n",
       "Class          2\n",
       "dtype: int64"
      ]
     },
     "execution_count": 8,
     "metadata": {},
     "output_type": "execute_result"
    }
   ],
   "source": [
    "data.nunique()"
   ]
  },
  {
   "cell_type": "code",
   "execution_count": 9,
   "id": "4cb111c5-a5a4-4ee9-bfc0-7d9bcd687718",
   "metadata": {
    "tags": []
   },
   "outputs": [],
   "source": [
    "features = list(data.columns)\n",
    "features.remove('Class')"
   ]
  },
  {
   "cell_type": "code",
   "execution_count": 10,
   "id": "20996288-5e67-4db3-8a2d-dc0e331acae5",
   "metadata": {
    "tags": []
   },
   "outputs": [
    {
     "data": {
      "text/html": [
       "<div>\n",
       "<style scoped>\n",
       "    .dataframe tbody tr th:only-of-type {\n",
       "        vertical-align: middle;\n",
       "    }\n",
       "\n",
       "    .dataframe tbody tr th {\n",
       "        vertical-align: top;\n",
       "    }\n",
       "\n",
       "    .dataframe thead th {\n",
       "        text-align: right;\n",
       "    }\n",
       "</style>\n",
       "<table border=\"1\" class=\"dataframe\">\n",
       "  <thead>\n",
       "    <tr style=\"text-align: right;\">\n",
       "      <th></th>\n",
       "      <th>Time</th>\n",
       "      <th>V1</th>\n",
       "      <th>V2</th>\n",
       "      <th>V3</th>\n",
       "      <th>V4</th>\n",
       "      <th>V5</th>\n",
       "      <th>V6</th>\n",
       "      <th>V7</th>\n",
       "      <th>V8</th>\n",
       "      <th>V9</th>\n",
       "      <th>...</th>\n",
       "      <th>V20</th>\n",
       "      <th>V21</th>\n",
       "      <th>V22</th>\n",
       "      <th>V23</th>\n",
       "      <th>V24</th>\n",
       "      <th>V25</th>\n",
       "      <th>V26</th>\n",
       "      <th>V27</th>\n",
       "      <th>V28</th>\n",
       "      <th>Amount</th>\n",
       "    </tr>\n",
       "  </thead>\n",
       "  <tbody>\n",
       "    <tr>\n",
       "      <th>count</th>\n",
       "      <td>284807.000000</td>\n",
       "      <td>2.848070e+05</td>\n",
       "      <td>2.848070e+05</td>\n",
       "      <td>2.848070e+05</td>\n",
       "      <td>2.848070e+05</td>\n",
       "      <td>2.848070e+05</td>\n",
       "      <td>2.848070e+05</td>\n",
       "      <td>2.848070e+05</td>\n",
       "      <td>2.848070e+05</td>\n",
       "      <td>2.848070e+05</td>\n",
       "      <td>...</td>\n",
       "      <td>2.848070e+05</td>\n",
       "      <td>2.848070e+05</td>\n",
       "      <td>2.848070e+05</td>\n",
       "      <td>2.848070e+05</td>\n",
       "      <td>2.848070e+05</td>\n",
       "      <td>2.848070e+05</td>\n",
       "      <td>2.848070e+05</td>\n",
       "      <td>2.848070e+05</td>\n",
       "      <td>2.848070e+05</td>\n",
       "      <td>284807.000000</td>\n",
       "    </tr>\n",
       "    <tr>\n",
       "      <th>mean</th>\n",
       "      <td>94813.859575</td>\n",
       "      <td>1.168375e-15</td>\n",
       "      <td>3.416908e-16</td>\n",
       "      <td>-1.379537e-15</td>\n",
       "      <td>2.074095e-15</td>\n",
       "      <td>9.604066e-16</td>\n",
       "      <td>1.487313e-15</td>\n",
       "      <td>-5.556467e-16</td>\n",
       "      <td>1.213481e-16</td>\n",
       "      <td>-2.406331e-15</td>\n",
       "      <td>...</td>\n",
       "      <td>6.406204e-16</td>\n",
       "      <td>1.654067e-16</td>\n",
       "      <td>-3.568593e-16</td>\n",
       "      <td>2.578648e-16</td>\n",
       "      <td>4.473266e-15</td>\n",
       "      <td>5.340915e-16</td>\n",
       "      <td>1.683437e-15</td>\n",
       "      <td>-3.660091e-16</td>\n",
       "      <td>-1.227390e-16</td>\n",
       "      <td>88.349619</td>\n",
       "    </tr>\n",
       "    <tr>\n",
       "      <th>std</th>\n",
       "      <td>47488.145955</td>\n",
       "      <td>1.958696e+00</td>\n",
       "      <td>1.651309e+00</td>\n",
       "      <td>1.516255e+00</td>\n",
       "      <td>1.415869e+00</td>\n",
       "      <td>1.380247e+00</td>\n",
       "      <td>1.332271e+00</td>\n",
       "      <td>1.237094e+00</td>\n",
       "      <td>1.194353e+00</td>\n",
       "      <td>1.098632e+00</td>\n",
       "      <td>...</td>\n",
       "      <td>7.709250e-01</td>\n",
       "      <td>7.345240e-01</td>\n",
       "      <td>7.257016e-01</td>\n",
       "      <td>6.244603e-01</td>\n",
       "      <td>6.056471e-01</td>\n",
       "      <td>5.212781e-01</td>\n",
       "      <td>4.822270e-01</td>\n",
       "      <td>4.036325e-01</td>\n",
       "      <td>3.300833e-01</td>\n",
       "      <td>250.120109</td>\n",
       "    </tr>\n",
       "    <tr>\n",
       "      <th>min</th>\n",
       "      <td>0.000000</td>\n",
       "      <td>-5.640751e+01</td>\n",
       "      <td>-7.271573e+01</td>\n",
       "      <td>-4.832559e+01</td>\n",
       "      <td>-5.683171e+00</td>\n",
       "      <td>-1.137433e+02</td>\n",
       "      <td>-2.616051e+01</td>\n",
       "      <td>-4.355724e+01</td>\n",
       "      <td>-7.321672e+01</td>\n",
       "      <td>-1.343407e+01</td>\n",
       "      <td>...</td>\n",
       "      <td>-5.449772e+01</td>\n",
       "      <td>-3.483038e+01</td>\n",
       "      <td>-1.093314e+01</td>\n",
       "      <td>-4.480774e+01</td>\n",
       "      <td>-2.836627e+00</td>\n",
       "      <td>-1.029540e+01</td>\n",
       "      <td>-2.604551e+00</td>\n",
       "      <td>-2.256568e+01</td>\n",
       "      <td>-1.543008e+01</td>\n",
       "      <td>0.000000</td>\n",
       "    </tr>\n",
       "    <tr>\n",
       "      <th>25%</th>\n",
       "      <td>54201.500000</td>\n",
       "      <td>-9.203734e-01</td>\n",
       "      <td>-5.985499e-01</td>\n",
       "      <td>-8.903648e-01</td>\n",
       "      <td>-8.486401e-01</td>\n",
       "      <td>-6.915971e-01</td>\n",
       "      <td>-7.682956e-01</td>\n",
       "      <td>-5.540759e-01</td>\n",
       "      <td>-2.086297e-01</td>\n",
       "      <td>-6.430976e-01</td>\n",
       "      <td>...</td>\n",
       "      <td>-2.117214e-01</td>\n",
       "      <td>-2.283949e-01</td>\n",
       "      <td>-5.423504e-01</td>\n",
       "      <td>-1.618463e-01</td>\n",
       "      <td>-3.545861e-01</td>\n",
       "      <td>-3.171451e-01</td>\n",
       "      <td>-3.269839e-01</td>\n",
       "      <td>-7.083953e-02</td>\n",
       "      <td>-5.295979e-02</td>\n",
       "      <td>5.600000</td>\n",
       "    </tr>\n",
       "    <tr>\n",
       "      <th>50%</th>\n",
       "      <td>84692.000000</td>\n",
       "      <td>1.810880e-02</td>\n",
       "      <td>6.548556e-02</td>\n",
       "      <td>1.798463e-01</td>\n",
       "      <td>-1.984653e-02</td>\n",
       "      <td>-5.433583e-02</td>\n",
       "      <td>-2.741871e-01</td>\n",
       "      <td>4.010308e-02</td>\n",
       "      <td>2.235804e-02</td>\n",
       "      <td>-5.142873e-02</td>\n",
       "      <td>...</td>\n",
       "      <td>-6.248109e-02</td>\n",
       "      <td>-2.945017e-02</td>\n",
       "      <td>6.781943e-03</td>\n",
       "      <td>-1.119293e-02</td>\n",
       "      <td>4.097606e-02</td>\n",
       "      <td>1.659350e-02</td>\n",
       "      <td>-5.213911e-02</td>\n",
       "      <td>1.342146e-03</td>\n",
       "      <td>1.124383e-02</td>\n",
       "      <td>22.000000</td>\n",
       "    </tr>\n",
       "    <tr>\n",
       "      <th>75%</th>\n",
       "      <td>139320.500000</td>\n",
       "      <td>1.315642e+00</td>\n",
       "      <td>8.037239e-01</td>\n",
       "      <td>1.027196e+00</td>\n",
       "      <td>7.433413e-01</td>\n",
       "      <td>6.119264e-01</td>\n",
       "      <td>3.985649e-01</td>\n",
       "      <td>5.704361e-01</td>\n",
       "      <td>3.273459e-01</td>\n",
       "      <td>5.971390e-01</td>\n",
       "      <td>...</td>\n",
       "      <td>1.330408e-01</td>\n",
       "      <td>1.863772e-01</td>\n",
       "      <td>5.285536e-01</td>\n",
       "      <td>1.476421e-01</td>\n",
       "      <td>4.395266e-01</td>\n",
       "      <td>3.507156e-01</td>\n",
       "      <td>2.409522e-01</td>\n",
       "      <td>9.104512e-02</td>\n",
       "      <td>7.827995e-02</td>\n",
       "      <td>77.165000</td>\n",
       "    </tr>\n",
       "    <tr>\n",
       "      <th>max</th>\n",
       "      <td>172792.000000</td>\n",
       "      <td>2.454930e+00</td>\n",
       "      <td>2.205773e+01</td>\n",
       "      <td>9.382558e+00</td>\n",
       "      <td>1.687534e+01</td>\n",
       "      <td>3.480167e+01</td>\n",
       "      <td>7.330163e+01</td>\n",
       "      <td>1.205895e+02</td>\n",
       "      <td>2.000721e+01</td>\n",
       "      <td>1.559499e+01</td>\n",
       "      <td>...</td>\n",
       "      <td>3.942090e+01</td>\n",
       "      <td>2.720284e+01</td>\n",
       "      <td>1.050309e+01</td>\n",
       "      <td>2.252841e+01</td>\n",
       "      <td>4.584549e+00</td>\n",
       "      <td>7.519589e+00</td>\n",
       "      <td>3.517346e+00</td>\n",
       "      <td>3.161220e+01</td>\n",
       "      <td>3.384781e+01</td>\n",
       "      <td>25691.160000</td>\n",
       "    </tr>\n",
       "  </tbody>\n",
       "</table>\n",
       "<p>8 rows × 30 columns</p>\n",
       "</div>"
      ],
      "text/plain": [
       "                Time            V1            V2            V3            V4  \\\n",
       "count  284807.000000  2.848070e+05  2.848070e+05  2.848070e+05  2.848070e+05   \n",
       "mean    94813.859575  1.168375e-15  3.416908e-16 -1.379537e-15  2.074095e-15   \n",
       "std     47488.145955  1.958696e+00  1.651309e+00  1.516255e+00  1.415869e+00   \n",
       "min         0.000000 -5.640751e+01 -7.271573e+01 -4.832559e+01 -5.683171e+00   \n",
       "25%     54201.500000 -9.203734e-01 -5.985499e-01 -8.903648e-01 -8.486401e-01   \n",
       "50%     84692.000000  1.810880e-02  6.548556e-02  1.798463e-01 -1.984653e-02   \n",
       "75%    139320.500000  1.315642e+00  8.037239e-01  1.027196e+00  7.433413e-01   \n",
       "max    172792.000000  2.454930e+00  2.205773e+01  9.382558e+00  1.687534e+01   \n",
       "\n",
       "                 V5            V6            V7            V8            V9  \\\n",
       "count  2.848070e+05  2.848070e+05  2.848070e+05  2.848070e+05  2.848070e+05   \n",
       "mean   9.604066e-16  1.487313e-15 -5.556467e-16  1.213481e-16 -2.406331e-15   \n",
       "std    1.380247e+00  1.332271e+00  1.237094e+00  1.194353e+00  1.098632e+00   \n",
       "min   -1.137433e+02 -2.616051e+01 -4.355724e+01 -7.321672e+01 -1.343407e+01   \n",
       "25%   -6.915971e-01 -7.682956e-01 -5.540759e-01 -2.086297e-01 -6.430976e-01   \n",
       "50%   -5.433583e-02 -2.741871e-01  4.010308e-02  2.235804e-02 -5.142873e-02   \n",
       "75%    6.119264e-01  3.985649e-01  5.704361e-01  3.273459e-01  5.971390e-01   \n",
       "max    3.480167e+01  7.330163e+01  1.205895e+02  2.000721e+01  1.559499e+01   \n",
       "\n",
       "       ...           V20           V21           V22           V23  \\\n",
       "count  ...  2.848070e+05  2.848070e+05  2.848070e+05  2.848070e+05   \n",
       "mean   ...  6.406204e-16  1.654067e-16 -3.568593e-16  2.578648e-16   \n",
       "std    ...  7.709250e-01  7.345240e-01  7.257016e-01  6.244603e-01   \n",
       "min    ... -5.449772e+01 -3.483038e+01 -1.093314e+01 -4.480774e+01   \n",
       "25%    ... -2.117214e-01 -2.283949e-01 -5.423504e-01 -1.618463e-01   \n",
       "50%    ... -6.248109e-02 -2.945017e-02  6.781943e-03 -1.119293e-02   \n",
       "75%    ...  1.330408e-01  1.863772e-01  5.285536e-01  1.476421e-01   \n",
       "max    ...  3.942090e+01  2.720284e+01  1.050309e+01  2.252841e+01   \n",
       "\n",
       "                V24           V25           V26           V27           V28  \\\n",
       "count  2.848070e+05  2.848070e+05  2.848070e+05  2.848070e+05  2.848070e+05   \n",
       "mean   4.473266e-15  5.340915e-16  1.683437e-15 -3.660091e-16 -1.227390e-16   \n",
       "std    6.056471e-01  5.212781e-01  4.822270e-01  4.036325e-01  3.300833e-01   \n",
       "min   -2.836627e+00 -1.029540e+01 -2.604551e+00 -2.256568e+01 -1.543008e+01   \n",
       "25%   -3.545861e-01 -3.171451e-01 -3.269839e-01 -7.083953e-02 -5.295979e-02   \n",
       "50%    4.097606e-02  1.659350e-02 -5.213911e-02  1.342146e-03  1.124383e-02   \n",
       "75%    4.395266e-01  3.507156e-01  2.409522e-01  9.104512e-02  7.827995e-02   \n",
       "max    4.584549e+00  7.519589e+00  3.517346e+00  3.161220e+01  3.384781e+01   \n",
       "\n",
       "              Amount  \n",
       "count  284807.000000  \n",
       "mean       88.349619  \n",
       "std       250.120109  \n",
       "min         0.000000  \n",
       "25%         5.600000  \n",
       "50%        22.000000  \n",
       "75%        77.165000  \n",
       "max     25691.160000  \n",
       "\n",
       "[8 rows x 30 columns]"
      ]
     },
     "execution_count": 10,
     "metadata": {},
     "output_type": "execute_result"
    }
   ],
   "source": [
    "# Statistical descriptions of the features\n",
    "\n",
    "features_stat = data.drop(['Class'], axis = 1)\n",
    "features_stat.describe()"
   ]
  },
  {
   "cell_type": "markdown",
   "id": "c68e59a7-7ee5-4ab4-afca-9e3947917087",
   "metadata": {},
   "source": [
    "### 결측치 확인 "
   ]
  },
  {
   "cell_type": "code",
   "execution_count": 11,
   "id": "5accf84e-9de5-404e-b68a-3643b1561b6e",
   "metadata": {
    "tags": []
   },
   "outputs": [
    {
     "data": {
      "text/plain": [
       "Time      0\n",
       "V1        0\n",
       "V2        0\n",
       "V3        0\n",
       "V4        0\n",
       "V5        0\n",
       "V6        0\n",
       "V7        0\n",
       "V8        0\n",
       "V9        0\n",
       "V10       0\n",
       "V11       0\n",
       "V12       0\n",
       "V13       0\n",
       "V14       0\n",
       "V15       0\n",
       "V16       0\n",
       "V17       0\n",
       "V18       0\n",
       "V19       0\n",
       "V20       0\n",
       "V21       0\n",
       "V22       0\n",
       "V23       0\n",
       "V24       0\n",
       "V25       0\n",
       "V26       0\n",
       "V27       0\n",
       "V28       0\n",
       "Amount    0\n",
       "Class     0\n",
       "dtype: int64"
      ]
     },
     "execution_count": 11,
     "metadata": {},
     "output_type": "execute_result"
    }
   ],
   "source": [
    "data.isnull().sum()"
   ]
  },
  {
   "cell_type": "code",
   "execution_count": 12,
   "id": "1c5acea0-cc33-476c-80e3-e178439ad9a2",
   "metadata": {
    "jupyter": {
     "source_hidden": true
    },
    "tags": []
   },
   "outputs": [],
   "source": [
    "# Separating independent variables and target variable\n",
    "\n",
    "y = data['Class'] # target variable\n",
    "X = data.drop('Class', axis = 1) # independent variables\n",
    "\n",
    "# Constructing training set and testing set\n",
    "\n",
    "X_train, X_test, y_train, y_test = train_test_split(X, y, test_size = 0.2, random_state = 25)"
   ]
  },
  {
   "cell_type": "code",
   "execution_count": 13,
   "id": "9509501a-fdbd-4452-a148-1f926dafc74c",
   "metadata": {
    "jupyter": {
     "source_hidden": true
    },
    "tags": []
   },
   "outputs": [],
   "source": [
    "import plotly.io as pio\n",
    "pio.renderers.default = 'iframe' # or 'colab' or 'iframe' or 'iframe_connected' or 'sphinx_gallery'"
   ]
  },
  {
   "cell_type": "code",
   "execution_count": 14,
   "id": "ee77680d-5217-4f43-b25b-bc506981f242",
   "metadata": {
    "tags": []
   },
   "outputs": [
    {
     "data": {
      "text/plain": [
       "Class\n",
       "0    227465\n",
       "1       380\n",
       "Name: count, dtype: int64"
      ]
     },
     "execution_count": 14,
     "metadata": {},
     "output_type": "execute_result"
    }
   ],
   "source": [
    "y_train.value_counts()"
   ]
  },
  {
   "cell_type": "code",
   "execution_count": 15,
   "id": "32aeefb1-3a5e-4a1a-9457-b435efaeb1f6",
   "metadata": {
    "tags": []
   },
   "outputs": [
    {
     "data": {
      "text/html": [
       "<iframe\n",
       "    scrolling=\"no\"\n",
       "    width=\"100%\"\n",
       "    height=\"545px\"\n",
       "    src=\"iframe_figures/figure_15.html\"\n",
       "    frameborder=\"0\"\n",
       "    allowfullscreen\n",
       "></iframe>\n"
      ]
     },
     "metadata": {},
     "output_type": "display_data"
    }
   ],
   "source": [
    "z = list(y_train)\n",
    "\n",
    "count0 = 0\n",
    "count1 = 0\n",
    "\n",
    "for i in z:\n",
    "    if i == 0:\n",
    "        count0 = count0 + 1\n",
    "    elif i == 1:\n",
    "        count1 = count1 + 1\n",
    "\n",
    "# Class frequencies\n",
    "\n",
    "class_label_train = ['Authentic', 'Fraud']\n",
    "class_frequency_train = [count0, count1]\n",
    "\n",
    "fig1 = px.pie(values = class_frequency_train,\n",
    "             names = class_label_train,\n",
    "             title = 'Frequency comparison of authentic and fraudulent transactions in the training dataset',\n",
    "             template = 'ggplot2'\n",
    "            )\n",
    "fig1.show()"
   ]
  },
  {
   "cell_type": "code",
   "execution_count": 16,
   "id": "a4891132-12b1-4417-b99a-10a5e6eb3c8e",
   "metadata": {
    "tags": []
   },
   "outputs": [],
   "source": [
    "data_train = pd.concat([X_train, y_train], axis = 1)\n",
    "data_train_authentic = data_train[data_train['Class'] == 0]\n",
    "data_train_fraudulent = data_train[data_train['Class'] == 1]"
   ]
  },
  {
   "cell_type": "markdown",
   "id": "660d16b8-c45e-4b54-b835-99c9ecf66e29",
   "metadata": {},
   "source": [
    "### train set에서 사기가 아닌 거래와 사기 거래의 양과 시간"
   ]
  },
  {
   "cell_type": "code",
   "execution_count": 17,
   "id": "7b613e84-8ade-4059-9f86-75352fc6af1c",
   "metadata": {
    "tags": []
   },
   "outputs": [
    {
     "data": {
      "text/html": [
       "<iframe\n",
       "    scrolling=\"no\"\n",
       "    width=\"100%\"\n",
       "    height=\"545px\"\n",
       "    src=\"iframe_figures/figure_17.html\"\n",
       "    frameborder=\"0\"\n",
       "    allowfullscreen\n",
       "></iframe>\n"
      ]
     },
     "metadata": {},
     "output_type": "display_data"
    }
   ],
   "source": [
    "class_list_train = list(y_train)\n",
    "fraud_status_train = []\n",
    "for i in range(len(class_list_train)):\n",
    "    fraud_status_train.append(bool(class_list_train[i]))\n",
    "\n",
    "fig1 = px.scatter(data_train,\n",
    "                 x = 'Time',\n",
    "                 y = 'Amount', \n",
    "                 facet_col = fraud_status_train,\n",
    "                 color = fraud_status_train,\n",
    "                 title = 'Amount vs Time for the training set',\n",
    "                 template = 'ggplot2'\n",
    "                )\n",
    "fig1.show()"
   ]
  },
  {
   "cell_type": "markdown",
   "id": "47dcf852-e957-41a9-a301-e1a07043d45f",
   "metadata": {},
   "source": [
    "### Random over-sampling (ROS)\n",
    "- train dataset의 균형을 맞추기 위해 다수 클래스의 하위 집합을 사용."
   ]
  },
  {
   "cell_type": "code",
   "execution_count": 18,
   "id": "3d8692ca-e326-4c39-964e-a2575e609a8d",
   "metadata": {
    "tags": []
   },
   "outputs": [
    {
     "name": "stdout",
     "output_type": "stream",
     "text": [
      "Class frequencies after over-sampling:\n",
      "Class\n",
      "0    227465\n",
      "1    227465\n",
      "Name: count, dtype: int64\n"
     ]
    },
    {
     "data": {
      "text/plain": [
       "<Axes: title={'center': 'Class frequencies after over-sampling'}, xlabel='Class'>"
      ]
     },
     "execution_count": 18,
     "metadata": {},
     "output_type": "execute_result"
    },
    {
     "data": {
      "image/png": "[encoded data removed]",
      "text/plain": [
       "<Figure size 640x480 with 1 Axes>"
      ]
     },
     "metadata": {},
     "output_type": "display_data"
    }
   ],
   "source": [
    "data_train_fraudulent_over = data_train_fraudulent.sample(len(data_train_authentic), replace = 'True')\n",
    "data_train_over = pd.concat([data_train_authentic, data_train_fraudulent_over], axis = 0)\n",
    "\n",
    "X_train_over = data_train_over.drop('Class', axis = 1)\n",
    "y_train_over = data_train_over['Class']\n",
    "\n",
    "print('Class frequencies after over-sampling:')\n",
    "print(y_train_over.value_counts())\n",
    "y_train_over.value_counts().plot(kind = 'bar', title = 'Class frequencies after over-sampling')"
   ]
  },
  {
   "cell_type": "code",
   "execution_count": 19,
   "id": "29fa14bf-90a6-4200-ad60-79ba975d0d7c",
   "metadata": {
    "tags": []
   },
   "outputs": [
    {
     "data": {
      "text/html": [
       "<iframe\n",
       "    scrolling=\"no\"\n",
       "    width=\"100%\"\n",
       "    height=\"545px\"\n",
       "    src=\"iframe_figures/figure_19.html\"\n",
       "    frameborder=\"0\"\n",
       "    allowfullscreen\n",
       "></iframe>\n"
      ]
     },
     "metadata": {},
     "output_type": "display_data"
    }
   ],
   "source": [
    "# Amount vs Time for authentic and fraudulent transactions in the training set after random over-sampling\n",
    "\n",
    "class_list = list(y_train_over)\n",
    "fraud_status = []\n",
    "for i in range(len(class_list)):\n",
    "    fraud_status.append(bool(class_list[i]))\n",
    "\n",
    "fig1 = px.scatter(data_train_over,\n",
    "                 x = 'Time',\n",
    "                 y = 'Amount', \n",
    "                 facet_col = fraud_status,\n",
    "                 color = fraud_status,\n",
    "                 title = 'Amount vs Time',\n",
    "                 template = 'ggplot2'\n",
    "                )\n",
    "fig1.show()"
   ]
  },
  {
   "cell_type": "markdown",
   "id": "0551b73f-7183-415a-9915-17c0a2163bee",
   "metadata": {},
   "source": [
    "### Feature Scaling\n",
    "- 데이터 스케일링을 통해 모든 피처들의 샘플 데이터 분포와 범위를 동일하게 조정.\n",
    "- 참고 : https://dacon.io/codeshare/4526"
   ]
  },
  {
   "cell_type": "code",
   "execution_count": 20,
   "id": "ec6bf09a-7c87-411a-b83d-7531b7532e2c",
   "metadata": {
    "tags": []
   },
   "outputs": [
    {
     "data": {
      "image/png": "[encoded data removed]",
      "text/plain": [
       "<Figure size 640x480 with 1 Axes>"
      ]
     },
     "metadata": {},
     "output_type": "display_data"
    }
   ],
   "source": [
    "plt.hist(X_train_over, bins=30, alpha = 0.7, density = True)\n",
    "plt.title('before StandardScaler')\n",
    "plt.show()"
   ]
  },
  {
   "cell_type": "code",
   "execution_count": 21,
   "id": "d1986c84-9c33-41f5-a647-7c41c6f4a47f",
   "metadata": {
    "tags": []
   },
   "outputs": [],
   "source": [
    "scaling = MinMaxScaler(feature_range = (-1,1)).fit(X_train)\n",
    "\n",
    "X_train_over_scaled_minmax = scaling.transform(X_train_over)\n",
    "X_test_scaled_minmax = scaling.transform(X_test)"
   ]
  },
  {
   "cell_type": "code",
   "execution_count": 22,
   "id": "6649d3c3-1a2d-4a02-bbb8-4bbf06002032",
   "metadata": {
    "scrolled": true,
    "tags": []
   },
   "outputs": [
    {
     "data": {
      "image/png": "[encoded data removed]",
      "text/plain": [
       "<Figure size 640x480 with 1 Axes>"
      ]
     },
     "metadata": {},
     "output_type": "display_data"
    }
   ],
   "source": [
    "plt.hist(X_train_over_scaled_minmax, bins=30, alpha = 0.7, density = True)\n",
    "plt.title('before StandardScaler')\n",
    "plt.show()"
   ]
  },
  {
   "cell_type": "markdown",
   "id": "53f9c10c-9f8f-4ff4-97e2-2273a0ce59aa",
   "metadata": {},
   "source": [
    "### Logistic Regression\n",
    "- 랜덤 오버 샘플링 미적용"
   ]
  },
  {
   "cell_type": "code",
   "execution_count": 23,
   "id": "3ce24e93-6dec-40e0-9c8c-8701ad3e64bd",
   "metadata": {
    "tags": []
   },
   "outputs": [
    {
     "name": "stdout",
     "output_type": "stream",
     "text": [
      "Train Accuracy :  0.9988764291513967\n",
      "Test Accuracy :  0.9989993328885924\n"
     ]
    },
    {
     "name": "stderr",
     "output_type": "stream",
     "text": [
      "C:\\Users\\chan\\anaconda3\\envs\\proj\\lib\\site-packages\\sklearn\\linear_model\\_logistic.py:460: ConvergenceWarning:\n",
      "\n",
      "lbfgs failed to converge (status=1):\n",
      "STOP: TOTAL NO. of ITERATIONS REACHED LIMIT.\n",
      "\n",
      "Increase the number of iterations (max_iter) or scale the data as shown in:\n",
      "    https://scikit-learn.org/stable/modules/preprocessing.html\n",
      "Please also refer to the documentation for alternative solver options:\n",
      "    https://scikit-learn.org/stable/modules/linear_model.html#logistic-regression\n",
      "\n"
     ]
    }
   ],
   "source": [
    "from sklearn.linear_model import LogisticRegression \n",
    "\n",
    "model = LogisticRegression(solver= 'lbfgs').fit(X_train, y_train)\n",
    "\n",
    "print('Train Accuracy : ', model.score(X_train, y_train))\n",
    "print('Test Accuracy : ',model.score(X_test, y_test))"
   ]
  },
  {
   "cell_type": "code",
   "execution_count": 24,
   "id": "888d0c1f-0fd7-4df1-94ea-e782f1a28cde",
   "metadata": {
    "tags": []
   },
   "outputs": [
    {
     "data": {
      "text/plain": [
       "array([0, 0, 0, ..., 0, 0, 0], dtype=int64)"
      ]
     },
     "execution_count": 24,
     "metadata": {},
     "output_type": "execute_result"
    }
   ],
   "source": [
    "pred_train = model.predict(X_train)\n",
    "pred_test = model.predict(X_test)\n",
    "pred_test"
   ]
  },
  {
   "cell_type": "code",
   "execution_count": 25,
   "id": "b7875b30-05f8-476e-8a94-7b851ef93a3b",
   "metadata": {
    "tags": []
   },
   "outputs": [
    {
     "name": "stdout",
     "output_type": "stream",
     "text": [
      "<Confusion matrix>\n",
      "[[56823    27]\n",
      " [   30    82]]\n"
     ]
    }
   ],
   "source": [
    "from sklearn.metrics import confusion_matrix\n",
    "\n",
    "confusion = confusion_matrix(y_test, pred_test)\n",
    "\n",
    "\n",
    "print('<Confusion matrix>')\n",
    "print(confusion)"
   ]
  },
  {
   "cell_type": "code",
   "execution_count": 26,
   "id": "e1e9995e-1c10-47e0-8765-51920728d631",
   "metadata": {
    "tags": []
   },
   "outputs": [
    {
     "data": {
      "text/plain": [
       "Text(50.722222222222214, 0.5, 'True label')"
      ]
     },
     "execution_count": 26,
     "metadata": {},
     "output_type": "execute_result"
    },
    {
     "data": {
      "image/png": "[encoded data removed]",
      "text/plain": [
       "<Figure size 640x480 with 2 Axes>"
      ]
     },
     "metadata": {},
     "output_type": "display_data"
    }
   ],
   "source": [
    "import seaborn as sns\n",
    "class_names = ['Authentic', 'Fraudulent']\n",
    "sns.heatmap(confusion, annot = True)\n",
    "tick_marks_y = [0.25, 1.2]\n",
    "tick_marks_x = [0.5, 1.5]\n",
    "\n",
    "plt.yticks(tick_marks_y, class_names, rotation = 'vertical')\n",
    "plt.xticks(tick_marks_x, class_names, rotation = 'horizontal')\n",
    "plt.xlabel(\"Predicted label\")\n",
    "plt.ylabel(\"True label\")"
   ]
  },
  {
   "cell_type": "code",
   "execution_count": 27,
   "id": "6c47f11e-af6c-4f97-9b23-dc4be3dcb693",
   "metadata": {
    "tags": []
   },
   "outputs": [],
   "source": [
    "def performance_metric(confusion_matrix):\n",
    "    \n",
    "    TN = confusion_matrix[0, 0]\n",
    "    FP = confusion_matrix[0, 1]\n",
    "    FN = confusion_matrix[1, 0]\n",
    "    TP = confusion_matrix[1, 1]\n",
    "\n",
    "    accuracy = (TP + TN)/(TP + FN + TN + FP)\n",
    "\n",
    "    if (FP + TP == 0):\n",
    "        precision = float('NaN')\n",
    "    else:\n",
    "        precision = TP/(TP + FP)\n",
    "        \n",
    "    if (TP + FN == 0):\n",
    "        recall = float('NaN')\n",
    "    else:\n",
    "        recall = TP/(TP + FN)\n",
    "    return accuracy, precision, recall, TP, FN, TN, FP"
   ]
  },
  {
   "cell_type": "code",
   "execution_count": 28,
   "id": "ef851cc4-d0fc-4553-9c6e-9164665a71d4",
   "metadata": {
    "tags": []
   },
   "outputs": [
    {
     "name": "stdout",
     "output_type": "stream",
     "text": [
      "Accuracy:1.00, Precision: 0.75, Recall: 0.73\n"
     ]
    }
   ],
   "source": [
    "accuracy, precision, recall, TP, FN, TN, FP = performance_metric(confusion)\n",
    "print(f'Accuracy:{accuracy:.2f}, Precision: {precision:.2f}, Recall: {recall:.2f}')"
   ]
  },
  {
   "cell_type": "code",
   "execution_count": 29,
   "id": "88c46f6a-ac5a-4f0b-8716-a78ec29afa35",
   "metadata": {
    "tags": []
   },
   "outputs": [
    {
     "data": {
      "text/html": [
       "<iframe\n",
       "    scrolling=\"no\"\n",
       "    width=\"100%\"\n",
       "    height=\"470\"\n",
       "    src=\"iframe_figures/figure_29.html\"\n",
       "    frameborder=\"0\"\n",
       "    allowfullscreen\n",
       "></iframe>\n"
      ]
     },
     "metadata": {},
     "output_type": "display_data"
    }
   ],
   "source": [
    "fig1 = make_subplots(rows = 1, cols = 2, specs = [[{\"type\": \"pie\"}, {\"type\": \"pie\"}]])\n",
    "\n",
    "fig1.add_trace(go.Pie(\n",
    "    labels = ['TP', 'FN'],\n",
    "    values = [TP, FN],\n",
    "    domain = dict(x = [0, 0.4]),\n",
    "    name = 'Positive Class'), \n",
    "    row = 1, col = 1)\n",
    "\n",
    "fig1.add_trace(go.Pie(\n",
    "    labels = ['TN', 'FP'],\n",
    "    values = [TN, FP],\n",
    "    domain = dict(x = [0.4, 0.8]),\n",
    "    name = 'Negative Class'),\n",
    "    row = 1, col = 2)\n",
    "\n",
    "fig1.update_layout(height = 450, showlegend = True)\n",
    "fig1.show()"
   ]
  },
  {
   "cell_type": "markdown",
   "id": "f1c4c1ac-3f25-4cb4-9549-e785633cd3a2",
   "metadata": {},
   "source": [
    "## Task3 과제 내용"
   ]
  },
  {
   "cell_type": "markdown",
   "id": "24d170a1-9425-4bc7-a388-b9665af91690",
   "metadata": {},
   "source": [
    "### Q1. model score 저장하는 판다스 프레임 생성\n",
    "- Model name, Accuracy, precision, Recall 점수를 표시하는 컬럼이 있어야 합니다"
   ]
  },
  {
   "cell_type": "code",
   "execution_count": 177,
   "id": "eb53352d-0400-4a2f-9218-af4c67686f7e",
   "metadata": {
    "tags": []
   },
   "outputs": [
    {
     "data": {
      "text/html": [
       "<div>\n",
       "<style scoped>\n",
       "    .dataframe tbody tr th:only-of-type {\n",
       "        vertical-align: middle;\n",
       "    }\n",
       "\n",
       "    .dataframe tbody tr th {\n",
       "        vertical-align: top;\n",
       "    }\n",
       "\n",
       "    .dataframe thead th {\n",
       "        text-align: right;\n",
       "    }\n",
       "</style>\n",
       "<table border=\"1\" class=\"dataframe\">\n",
       "  <thead>\n",
       "    <tr style=\"text-align: right;\">\n",
       "      <th></th>\n",
       "      <th>Model</th>\n",
       "      <th>Accuracy</th>\n",
       "      <th>Precision</th>\n",
       "      <th>Recall</th>\n",
       "    </tr>\n",
       "  </thead>\n",
       "  <tbody>\n",
       "  </tbody>\n",
       "</table>\n",
       "</div>"
      ],
      "text/plain": [
       "Empty DataFrame\n",
       "Columns: [Model, Accuracy, Precision, Recall]\n",
       "Index: []"
      ]
     },
     "execution_count": 177,
     "metadata": {},
     "output_type": "execute_result"
    }
   ],
   "source": [
    "columns = ['Model', 'Accuracy', 'Precision', 'Recall']\n",
    "models = pd.DataFrame(columns=columns)\n",
    "models"
   ]
  },
  {
   "cell_type": "markdown",
   "id": "442cf800-13c8-44b4-8faf-b62534b030a7",
   "metadata": {},
   "source": [
    "### Random Forest "
   ]
  },
  {
   "cell_type": "markdown",
   "id": "1d3fadb7-803a-49ab-a5f9-7e311460d960",
   "metadata": {},
   "source": [
    "### Q2-1. Random Forest 로 모델 학습 후 예측"
   ]
  },
  {
   "cell_type": "code",
   "execution_count": 35,
   "id": "f5c84c93-a0e5-43dc-bc62-d43a04f0c93e",
   "metadata": {
    "tags": []
   },
   "outputs": [
    {
     "name": "stdout",
     "output_type": "stream",
     "text": [
      "Train Accuracy: 1.000\n",
      "Test Accuracy: 0.999\n"
     ]
    }
   ],
   "source": [
    "from sklearn.ensemble import RandomForestClassifier\n",
    "\n",
    "en_model = RandomForestClassifier(random_state=123)\n",
    "en_model.fit(X_train, y_train)\n",
    "\n",
    "train_acc = en_model.score(X_train, y_train)\n",
    "test_acc = en_model.score(X_test, y_test)\n",
    "\n",
    "print(f'Train Accuracy: {train_acc:.3f}')\n",
    "print(f'Test Accuracy: {test_acc:.3f}')"
   ]
  },
  {
   "cell_type": "code",
   "execution_count": 36,
   "id": "c6cac490-c2d9-4994-9256-290ad1ab9b04",
   "metadata": {
    "tags": []
   },
   "outputs": [
    {
     "data": {
      "text/plain": [
       "array([0, 0, 0, ..., 0, 0, 0], dtype=int64)"
      ]
     },
     "execution_count": 36,
     "metadata": {},
     "output_type": "execute_result"
    }
   ],
   "source": [
    "pred_train_rf = en_model.predict(X_train)## Q2-1 답안을 작성하세요. ##\n",
    "pred_test_rf = en_model.predict(X_test)## Q2-1 답안을 작성하세요. ##\n",
    "pred_test_rf\n",
    "\n"
   ]
  },
  {
   "cell_type": "code",
   "execution_count": 37,
   "id": "f6156156-83dc-4ab8-807e-8f7922043ed0",
   "metadata": {
    "tags": []
   },
   "outputs": [
    {
     "name": "stdout",
     "output_type": "stream",
     "text": [
      "<Confusion matrix>\n",
      "[[56836    14]\n",
      " [   16    96]]\n"
     ]
    }
   ],
   "source": [
    "from sklearn.metrics import confusion_matrix\n",
    "\n",
    "confusion_rf = confusion_matrix(y_test, pred_test_rf)\n",
    "\n",
    "\n",
    "print('<Confusion matrix>')\n",
    "print(confusion_rf)"
   ]
  },
  {
   "cell_type": "code",
   "execution_count": 38,
   "id": "5c333a59-b037-47e6-895b-464986a4924e",
   "metadata": {
    "tags": []
   },
   "outputs": [
    {
     "data": {
      "text/plain": [
       "Text(50.722222222222214, 0.5, 'True label')"
      ]
     },
     "execution_count": 38,
     "metadata": {},
     "output_type": "execute_result"
    },
    {
     "data": {
      "image/png": "[encoded data removed]",
      "text/plain": [
       "<Figure size 640x480 with 2 Axes>"
      ]
     },
     "metadata": {},
     "output_type": "display_data"
    }
   ],
   "source": [
    "import seaborn as sns\n",
    "class_names = ['Authentic', 'Fraudulent']\n",
    "sns.heatmap(confusion_rf, annot = True)\n",
    "tick_marks_y = [0.25, 1.2]\n",
    "tick_marks_x = [0.5, 1.5]\n",
    "\n",
    "plt.yticks(tick_marks_y, class_names, rotation = 'vertical')\n",
    "plt.xticks(tick_marks_x, class_names, rotation = 'horizontal')\n",
    "plt.xlabel(\"Predicted label\")\n",
    "plt.ylabel(\"True label\")"
   ]
  },
  {
   "cell_type": "markdown",
   "id": "1be0bc62-b7d7-494a-81f3-8da38be9676a",
   "metadata": {},
   "source": [
    "### Q2-2. Random Forest 로 학습한 모델의 performance metric score를 출력하고 저장하기"
   ]
  },
  {
   "cell_type": "code",
   "execution_count": 95,
   "id": "812883ee-282c-42bb-b46e-6436f25b9e55",
   "metadata": {
    "tags": []
   },
   "outputs": [
    {
     "name": "stdout",
     "output_type": "stream",
     "text": [
      "Accuracy:1.00, Precision: 0.873, Recall: 0.857\n"
     ]
    }
   ],
   "source": [
    "### Q2-2 답안을 작성하세요 ####\n",
    "def performance_metric(confusion_matrix):\n",
    "    \n",
    "    TN_rf = confusion_matrix[0, 0]\n",
    "    FP_rf = confusion_matrix[0, 1]\n",
    "    FN_rf = confusion_matrix[1, 0]\n",
    "    TP_rf = confusion_matrix[1, 1]\n",
    "\n",
    "    accuracy_rf = (TP_rf + TN_rf)/(TP_rf + FN_rf + TN_rf + FP_rf)\n",
    "\n",
    "    if (FP_rf + TP_rf == 0):\n",
    "        precision = float('NaN')\n",
    "    else:\n",
    "        precision_rf = TP_rf/(TP_rf + FP_rf)\n",
    "        \n",
    "    if (TP_rf + FN_rf == 0):\n",
    "        recall_rf = float('NaN')\n",
    "    else:\n",
    "        recall_rf = TP_rf/(TP_rf + FN_rf)\n",
    "    return accuracy_rf, precision_rf, recall_rf, TP_rf, FN_rf, TN_rf, FP_rf\n",
    "accuracy_rf, precision_rf, recall_rf, TP_rf, FN_rf, TN_rf, FP_rf = performance_metric(confusion_rf)\n",
    "print(f'Accuracy:{accuracy_rf:.2f}, Precision: {precision_rf:.3f}, Recall: {recall_rf:.3f}')"
   ]
  },
  {
   "cell_type": "code",
   "execution_count": 178,
   "id": "273e180c-b665-4e21-8927-90bd990ab9b9",
   "metadata": {
    "tags": []
   },
   "outputs": [
    {
     "data": {
      "text/html": [
       "<div>\n",
       "<style scoped>\n",
       "    .dataframe tbody tr th:only-of-type {\n",
       "        vertical-align: middle;\n",
       "    }\n",
       "\n",
       "    .dataframe tbody tr th {\n",
       "        vertical-align: top;\n",
       "    }\n",
       "\n",
       "    .dataframe thead th {\n",
       "        text-align: right;\n",
       "    }\n",
       "</style>\n",
       "<table border=\"1\" class=\"dataframe\">\n",
       "  <thead>\n",
       "    <tr style=\"text-align: right;\">\n",
       "      <th></th>\n",
       "      <th>Model</th>\n",
       "      <th>Accuracy</th>\n",
       "      <th>Precision</th>\n",
       "      <th>Recall</th>\n",
       "    </tr>\n",
       "  </thead>\n",
       "  <tbody>\n",
       "    <tr>\n",
       "      <th>0</th>\n",
       "      <td>RandomForest</td>\n",
       "      <td>1.0</td>\n",
       "      <td>0.873</td>\n",
       "      <td>0.857</td>\n",
       "    </tr>\n",
       "  </tbody>\n",
       "</table>\n",
       "</div>"
      ],
      "text/plain": [
       "          Model  Accuracy  Precision  Recall\n",
       "0  RandomForest       1.0      0.873   0.857"
      ]
     },
     "execution_count": 178,
     "metadata": {},
     "output_type": "execute_result"
    }
   ],
   "source": [
    "new_row = {\"Model\": \"RandomForest\", \"Accuracy\":1.00,\"Precision\":0.873,\"Recall\":0.857}\n",
    "models.loc[len(models)] = new_row\n",
    "\n",
    "models"
   ]
  },
  {
   "cell_type": "markdown",
   "id": "fe721e9b-d328-44b9-bf3b-c18f6cec0271",
   "metadata": {},
   "source": [
    "- GridSearchCV로 파라미터 찾기\n",
    "\n",
    "\n",
    "- 참고 : https://scikit-learn.org/stable/modules/grid_search.html"
   ]
  },
  {
   "cell_type": "markdown",
   "id": "71b16931-fcf4-4781-b86f-0b4de3068977",
   "metadata": {},
   "source": [
    "### Q3. Grid Serach 를 이용해서 최적의 하이퍼파라미터 찾기 "
   ]
  },
  {
   "cell_type": "code",
   "execution_count": 8,
   "id": "dd29ffc8-0c7b-4b12-b684-9ce9c40442c7",
   "metadata": {
    "tags": []
   },
   "outputs": [],
   "source": [
    "estimator = RandomForestClassifier(random_state=123)\n",
    "\n",
    "max_depth = [ depth for depth in range(1,6) ]\n",
    "min_split = [ split for split in range(2,7 ) ]\n",
    "trees = [ tree *10 for tree in range(5,10) ]\n",
    "\n",
    "\n",
    "param_grids = {\"max_depth\": max_depth,\n",
    "             \"min_samples_split\": min_split,\n",
    "             \"n_estimators\":trees}\n",
    "\n",
    "\n",
    "# 그리드서치\n",
    "model_grid = GridSearchCV(estimator, param_grid=param_grids, scoring=\"accuracy\", n_jobs = -1)\n",
    "model_grid.fit(X_train, y_train)\n",
    "\n",
    "\n",
    "print(\"best estimator: {}\".format(model_grid.best_estimator_))\n",
    "print(\"best parameters: {}\".format(model_grid.best_params_))\n",
    "print(\"best score: {}\".format(model_grid.best_score_.round(3)))"
   ]
  },
  {
   "cell_type": "markdown",
   "id": "b47ac5ba-dd06-4dbe-a28c-8a7e3afa0e9f",
   "metadata": {},
   "source": [
    "### Q4. GridSerach를 이용해 파라미터 튜닝 적용하고 모델 학습하기"
   ]
  },
  {
   "cell_type": "code",
   "execution_count": 171,
   "id": "0f13e1b5-e9c1-43d8-a2ca-dd1b2542e957",
   "metadata": {
    "tags": []
   },
   "outputs": [
    {
     "name": "stdout",
     "output_type": "stream",
     "text": [
      "Train Accuracy: 1.000\n",
      "Test Accuracy: 1.000\n"
     ]
    }
   ],
   "source": [
    "\n",
    "en_model_2 = RandomForestClassifier(criterion= 'entropy',max_depth= 20,\n",
    "             min_samples_split=2,\n",
    "             n_estimators= 50 ,random_state=123)\n",
    "en_model_2.fit(X_train, y_train)\n",
    "train_acc = en_model_2.score(X_train, y_train)### Q4 답안을 작성하세요 ####\n",
    "test_acc = en_model_2.score(X_test, y_test)### Q4 답안을 작성하세요 ####\n",
    "\n",
    "print(f'Train Accuracy: {train_acc:.3f}')\n",
    "print(f'Test Accuracy: {test_acc:.3f}')"
   ]
  },
  {
   "cell_type": "code",
   "execution_count": 172,
   "id": "ca39dec3-a2cc-46d7-af8d-ce226fcd6f7d",
   "metadata": {
    "tags": []
   },
   "outputs": [
    {
     "data": {
      "text/plain": [
       "array([0, 0, 0, ..., 0, 0, 0], dtype=int64)"
      ]
     },
     "execution_count": 172,
     "metadata": {},
     "output_type": "execute_result"
    }
   ],
   "source": [
    "pred_train_rf_2 = en_model_2.predict(X_train)### Q4 답안을 작성하세요 ####\n",
    "pred_test_rf_2 = en_model_2.predict(X_test)### Q4 답안을 작성하세요 ####\n",
    "pred_test_rf_2 "
   ]
  },
  {
   "cell_type": "code",
   "execution_count": 173,
   "id": "759d38ca-088a-4d09-83cf-0c75860a1deb",
   "metadata": {
    "tags": []
   },
   "outputs": [
    {
     "name": "stdout",
     "output_type": "stream",
     "text": [
      "<Confusion matrix>\n",
      "[[56843     7]\n",
      " [   15    97]]\n"
     ]
    }
   ],
   "source": [
    "from sklearn.metrics import confusion_matrix\n",
    "\n",
    "confusion_rf_2 = confusion_matrix(y_test, pred_test_rf_2)\n",
    "\n",
    "\n",
    "print('<Confusion matrix>')\n",
    "print(confusion_rf_2)"
   ]
  },
  {
   "cell_type": "code",
   "execution_count": 174,
   "id": "e768fc99-03ff-43ad-add9-25145534abf8",
   "metadata": {
    "tags": []
   },
   "outputs": [
    {
     "data": {
      "text/plain": [
       "Text(50.722222222222214, 0.5, 'True label')"
      ]
     },
     "execution_count": 174,
     "metadata": {},
     "output_type": "execute_result"
    },
    {
     "data": {
      "image/png": "[encoded data removed]",
      "text/plain": [
       "<Figure size 640x480 with 2 Axes>"
      ]
     },
     "metadata": {},
     "output_type": "display_data"
    }
   ],
   "source": [
    "import seaborn as sns\n",
    "class_names = ['Authentic', 'Fraudulent']\n",
    "sns.heatmap(confusion_rf_2, annot = True)\n",
    "tick_marks_y = [0.25, 1.2]\n",
    "tick_marks_x = [0.5, 1.5]\n",
    "\n",
    "plt.yticks(tick_marks_y, class_names, rotation = 'vertical')\n",
    "plt.xticks(tick_marks_x, class_names, rotation = 'horizontal')\n",
    "plt.xlabel(\"Predicted label\")\n",
    "plt.ylabel(\"True label\")"
   ]
  },
  {
   "cell_type": "markdown",
   "id": "1ba7c371-1c93-41f8-a6e0-d89ca7cb82f9",
   "metadata": {},
   "source": [
    "### Q4-2. 파라미터 튜닝 적용한 모델의 performance metric score를 출력하고 저장하기"
   ]
  },
  {
   "cell_type": "code",
   "execution_count": 179,
   "id": "f9737fd9-5811-4fce-9e32-f1f83d8174b0",
   "metadata": {
    "tags": []
   },
   "outputs": [
    {
     "name": "stdout",
     "output_type": "stream",
     "text": [
      "Accuracy:1.00, Precision: 0.933, Recall: 0.866\n"
     ]
    }
   ],
   "source": [
    "def performance_metric(confusion_matrix):\n",
    "    \n",
    "    TN_rf2 = confusion_matrix[0, 0]\n",
    "    FP_rf2 = confusion_matrix[0, 1]\n",
    "    FN_rf2 = confusion_matrix[1, 0]\n",
    "    TP_rf2 = confusion_matrix[1, 1]\n",
    "\n",
    "    accuracy_rf2 = (TP_rf2 + TN_rf)/(TP_rf2 + FN_rf2 + TN_rf2 + FP_rf2)\n",
    "\n",
    "    if (FP_rf2 + TP_rf2 == 0):\n",
    "        precision_rf2 = float('NaN')\n",
    "    else:\n",
    "        precision_rf2 = TP_rf2/(TP_rf2 + FP_rf2)\n",
    "        \n",
    "    if (TP_rf2 + FN_rf2 == 0):\n",
    "        recall_rf2 = float('NaN')\n",
    "    else:\n",
    "        recall_rf2 = TP_rf2/(TP_rf2 + FN_rf2)\n",
    "    return accuracy_rf2, precision_rf2, recall_rf2, TP_rf2, FN_rf2, TN_rf2, FP_rf2\n",
    "accuracy_rf2, precision_rf2, recall_rf2, TP_rf2, FN_rf2, TN_rf2, FP_rf2 = performance_metric(confusion_rf_2)\n",
    "print(f'Accuracy:{accuracy_rf2:.2f}, Precision: {precision_rf2:.3f}, Recall: {recall_rf2:.3f}')\n",
    "# Accuracy:1.00, Precision: 0.873, Recall: 0.857\n",
    "# Accuracy:0.999, Precision: 0.933, Recall: 0.866 -- 20,2,50"
   ]
  },
  {
   "cell_type": "code",
   "execution_count": 181,
   "id": "9319cc4c-7962-4261-b83e-894d5beb3b2f",
   "metadata": {
    "tags": []
   },
   "outputs": [
    {
     "data": {
      "text/html": [
       "<div>\n",
       "<style scoped>\n",
       "    .dataframe tbody tr th:only-of-type {\n",
       "        vertical-align: middle;\n",
       "    }\n",
       "\n",
       "    .dataframe tbody tr th {\n",
       "        vertical-align: top;\n",
       "    }\n",
       "\n",
       "    .dataframe thead th {\n",
       "        text-align: right;\n",
       "    }\n",
       "</style>\n",
       "<table border=\"1\" class=\"dataframe\">\n",
       "  <thead>\n",
       "    <tr style=\"text-align: right;\">\n",
       "      <th></th>\n",
       "      <th>Model</th>\n",
       "      <th>Accuracy</th>\n",
       "      <th>Precision</th>\n",
       "      <th>Recall</th>\n",
       "    </tr>\n",
       "  </thead>\n",
       "  <tbody>\n",
       "    <tr>\n",
       "      <th>0</th>\n",
       "      <td>RandomForest</td>\n",
       "      <td>1.0</td>\n",
       "      <td>0.873</td>\n",
       "      <td>0.857</td>\n",
       "    </tr>\n",
       "    <tr>\n",
       "      <th>1</th>\n",
       "      <td>RandomForest2</td>\n",
       "      <td>1.0</td>\n",
       "      <td>0.933</td>\n",
       "      <td>0.866</td>\n",
       "    </tr>\n",
       "  </tbody>\n",
       "</table>\n",
       "</div>"
      ],
      "text/plain": [
       "           Model  Accuracy  Precision  Recall\n",
       "0   RandomForest       1.0      0.873   0.857\n",
       "1  RandomForest2       1.0      0.933   0.866"
      ]
     },
     "execution_count": 181,
     "metadata": {},
     "output_type": "execute_result"
    }
   ],
   "source": [
    "\n",
    "new_row = {\"Model\": \"RandomForest2\", \"Accuracy\":1.00,\"Precision\":0.933,\"Recall\": 0.866} ### Q4-2 답안을 작성하세요 ####\n",
    "models.loc[len(models)] = new_row\n",
    "models"
   ]
  },
  {
   "cell_type": "code",
   "execution_count": 183,
   "id": "7a91ef40-5ed2-47e0-a7a2-6e6a1b9bb157",
   "metadata": {
    "tags": []
   },
   "outputs": [
    {
     "data": {
      "text/html": [
       "<iframe\n",
       "    scrolling=\"no\"\n",
       "    width=\"100%\"\n",
       "    height=\"470\"\n",
       "    src=\"iframe_figures/figure_183.html\"\n",
       "    frameborder=\"0\"\n",
       "    allowfullscreen\n",
       "></iframe>\n"
      ]
     },
     "metadata": {},
     "output_type": "display_data"
    }
   ],
   "source": [
    "fig1 = make_subplots(rows = 1, cols = 2, specs = [[{\"type\": \"pie\"}, {\"type\": \"pie\"}]])\n",
    "\n",
    "fig1.add_trace(go.Pie(\n",
    "    labels = ['TP', 'FN'],\n",
    "    values = [TP_rf2, FN_rf2],\n",
    "    domain = dict(x = [0, 0.4]),\n",
    "    name = 'Positive Class'), \n",
    "    row = 1, col = 1)\n",
    "\n",
    "fig1.add_trace(go.Pie(\n",
    "    labels = ['TN', 'FP'],\n",
    "    values = [TN_rf2, FP_rf2],\n",
    "    domain = dict(x = [0.4, 0.8]),\n",
    "    name = 'Negative Class'),\n",
    "    row = 1, col = 2)\n",
    "\n",
    "fig1.update_layout(height = 450, showlegend = True)\n",
    "fig1.show()"
   ]
  },
  {
   "cell_type": "markdown",
   "id": "8ae7701d-7848-43a1-9d80-a4e141394404",
   "metadata": {},
   "source": [
    "### Logistic Regression\n",
    "- 랜덤 오버 샘플링 적용"
   ]
  },
  {
   "cell_type": "code",
   "execution_count": 184,
   "id": "bad8ebb3-d169-475e-9798-6c1d773e0044",
   "metadata": {
    "tags": []
   },
   "outputs": [
    {
     "name": "stdout",
     "output_type": "stream",
     "text": [
      "Train Accuracy :  0.9394192513133889\n",
      "Test Accuracy :  0.9604297601910046\n"
     ]
    }
   ],
   "source": [
    "from sklearn.linear_model import LogisticRegression \n",
    "\n",
    "model_over= LogisticRegression(solver= 'lbfgs').fit(X_train_over, y_train_over)\n",
    "\n",
    "print('Train Accuracy : ', model_over.score(X_train_over, y_train_over))\n",
    "print('Test Accuracy : ',model_over.score(X_test, y_test))\n",
    "\n"
   ]
  },
  {
   "cell_type": "code",
   "execution_count": 185,
   "id": "338ede02-f8f2-485b-a37e-6e3c8502ca6c",
   "metadata": {
    "scrolled": true,
    "tags": []
   },
   "outputs": [
    {
     "data": {
      "text/plain": [
       "array([0, 0, 0, ..., 0, 1, 0], dtype=int64)"
      ]
     },
     "execution_count": 185,
     "metadata": {},
     "output_type": "execute_result"
    }
   ],
   "source": [
    "pred_train_over = model_over.predict(X_train_over)\n",
    "pred_test_over = model_over.predict(X_test)\n",
    "pred_test_over"
   ]
  },
  {
   "cell_type": "code",
   "execution_count": 186,
   "id": "b7b60bdc-8e57-41b5-9df8-7191965c4db5",
   "metadata": {
    "scrolled": true,
    "tags": []
   },
   "outputs": [
    {
     "name": "stdout",
     "output_type": "stream",
     "text": [
      "<Confusion matrix>\n",
      "[[54604  2246]\n",
      " [    8   104]]\n"
     ]
    }
   ],
   "source": [
    "from sklearn.metrics import confusion_matrix\n",
    "\n",
    "confusion_over = confusion_matrix(y_test, pred_test_over)\n",
    "\n",
    "\n",
    "print('<Confusion matrix>')\n",
    "print(confusion_over)"
   ]
  },
  {
   "cell_type": "code",
   "execution_count": 187,
   "id": "24468f28-156c-4aff-ba30-2f43a5c4eef6",
   "metadata": {
    "tags": []
   },
   "outputs": [
    {
     "data": {
      "text/plain": [
       "Text(50.722222222222214, 0.5, 'True label')"
      ]
     },
     "execution_count": 187,
     "metadata": {},
     "output_type": "execute_result"
    },
    {
     "data": {
      "image/png": "[encoded data removed]",
      "text/plain": [
       "<Figure size 640x480 with 2 Axes>"
      ]
     },
     "metadata": {},
     "output_type": "display_data"
    }
   ],
   "source": [
    "import seaborn as sns\n",
    "class_names = ['Authentic', 'Fraudulent']\n",
    "sns.heatmap(confusion_over, annot = True)\n",
    "tick_marks_y = [0.25, 1.2]\n",
    "tick_marks_x = [0.5, 1.5]\n",
    "\n",
    "plt.yticks(tick_marks_y, class_names, rotation = 'vertical')\n",
    "plt.xticks(tick_marks_x, class_names, rotation = 'horizontal')\n",
    "plt.xlabel(\"Predicted label\")\n",
    "plt.ylabel(\"True label\")"
   ]
  },
  {
   "cell_type": "markdown",
   "id": "6f9ca781-5c56-43d6-adfe-3e773f6d58e9",
   "metadata": {},
   "source": [
    "### Q5. linear regression 모델의 performance metric score를 출력하고 저장하기"
   ]
  },
  {
   "cell_type": "code",
   "execution_count": 189,
   "id": "5c44c422-8493-4df6-9522-3a95a1e11228",
   "metadata": {
    "tags": []
   },
   "outputs": [
    {
     "name": "stdout",
     "output_type": "stream",
     "text": [
      "Accuracy:0.96, Precision: 0.044, Recall: 0.929\n"
     ]
    }
   ],
   "source": [
    "def performance_metric(confusion_over):\n",
    "    \n",
    "    TN_over = confusion_over[0, 0]\n",
    "    FP_over = confusion_over[0, 1]\n",
    "    FN_over = confusion_over[1, 0]\n",
    "    TP_over = confusion_over[1, 1]\n",
    "\n",
    "    accuracy_over = (TP_over + TN_over) / (TP_over + TN_over + FP_over + FN_over)\n",
    "    precision_over = TP_over / (TP_over + FP_over)\n",
    "    recall_over = TP_over / (TP_over + FN_over) \n",
    "\n",
    "    \n",
    "    return accuracy_over, precision_over, recall_over, TP_over, FN_over, TN_over, FP_over\n",
    "\n",
    "    \n",
    "accuracy_over, precision_over, recall_over, TP_over, FN_over, TN_over, FP_over = performance_metric(confusion_over)\n",
    "print(f'Accuracy:{accuracy_over:.2f}, Precision: {precision_over:.3f}, Recall: {recall_over:.3f}') ### Q5답안을 작성하세요 ####"
   ]
  },
  {
   "cell_type": "code",
   "execution_count": 190,
   "id": "85ffc3f2-5c1b-42ab-8993-b332969f3eb6",
   "metadata": {
    "tags": []
   },
   "outputs": [
    {
     "data": {
      "text/html": [
       "<div>\n",
       "<style scoped>\n",
       "    .dataframe tbody tr th:only-of-type {\n",
       "        vertical-align: middle;\n",
       "    }\n",
       "\n",
       "    .dataframe tbody tr th {\n",
       "        vertical-align: top;\n",
       "    }\n",
       "\n",
       "    .dataframe thead th {\n",
       "        text-align: right;\n",
       "    }\n",
       "</style>\n",
       "<table border=\"1\" class=\"dataframe\">\n",
       "  <thead>\n",
       "    <tr style=\"text-align: right;\">\n",
       "      <th></th>\n",
       "      <th>Model</th>\n",
       "      <th>Accuracy</th>\n",
       "      <th>Precision</th>\n",
       "      <th>Recall</th>\n",
       "    </tr>\n",
       "  </thead>\n",
       "  <tbody>\n",
       "    <tr>\n",
       "      <th>0</th>\n",
       "      <td>RandomForest</td>\n",
       "      <td>1.00</td>\n",
       "      <td>0.873</td>\n",
       "      <td>0.857</td>\n",
       "    </tr>\n",
       "    <tr>\n",
       "      <th>1</th>\n",
       "      <td>RandomForest2</td>\n",
       "      <td>1.00</td>\n",
       "      <td>0.933</td>\n",
       "      <td>0.866</td>\n",
       "    </tr>\n",
       "    <tr>\n",
       "      <th>2</th>\n",
       "      <td>Linear Regression</td>\n",
       "      <td>0.96</td>\n",
       "      <td>0.044</td>\n",
       "      <td>0.929</td>\n",
       "    </tr>\n",
       "  </tbody>\n",
       "</table>\n",
       "</div>"
      ],
      "text/plain": [
       "               Model  Accuracy  Precision  Recall\n",
       "0       RandomForest      1.00      0.873   0.857\n",
       "1      RandomForest2      1.00      0.933   0.866\n",
       "2  Linear Regression      0.96      0.044   0.929"
      ]
     },
     "execution_count": 190,
     "metadata": {},
     "output_type": "execute_result"
    }
   ],
   "source": [
    "new_row = {\"Model\": \"Linear Regression\", \"Accuracy\":0.96,\"Precision\":0.044,\"Recall\":0.929} ### Q5답안을 작성하세요 ####\n",
    "models.loc[len(models)] = new_row\n",
    "models"
   ]
  },
  {
   "cell_type": "code",
   "execution_count": 191,
   "id": "f9cb5d2d-95f3-43de-874e-579db6b5efa1",
   "metadata": {
    "tags": []
   },
   "outputs": [
    {
     "data": {
      "text/html": [
       "<iframe\n",
       "    scrolling=\"no\"\n",
       "    width=\"100%\"\n",
       "    height=\"470\"\n",
       "    src=\"iframe_figures/figure_191.html\"\n",
       "    frameborder=\"0\"\n",
       "    allowfullscreen\n",
       "></iframe>\n"
      ]
     },
     "metadata": {},
     "output_type": "display_data"
    }
   ],
   "source": [
    "fig1 = make_subplots(rows = 1, cols = 2, specs = [[{\"type\": \"pie\"}, {\"type\": \"pie\"}]])\n",
    "\n",
    "fig1.add_trace(go.Pie(\n",
    "    labels = ['TP', 'FN'],\n",
    "    values = [TP_over, FN_over],\n",
    "    domain = dict(x = [0, 0.4]),\n",
    "    name = 'Positive Class'), \n",
    "    row = 1, col = 1)\n",
    "\n",
    "fig1.add_trace(go.Pie(\n",
    "    labels = ['TN', 'FP'],\n",
    "    values = [TN_over, FP_over],\n",
    "    domain = dict(x = [0.4, 0.8]),\n",
    "    name = 'Negative Class'),\n",
    "    row = 1, col = 2)\n",
    "\n",
    "fig1.update_layout(height = 450, showlegend = True)\n",
    "fig1.show()"
   ]
  },
  {
   "cell_type": "markdown",
   "id": "fc038003-c083-42e8-9c8b-c5c9cb37870e",
   "metadata": {},
   "source": [
    "### Ridge Classifier"
   ]
  },
  {
   "cell_type": "code",
   "execution_count": 192,
   "id": "7a69e5a0-d39d-44c7-8da3-3068539c5c10",
   "metadata": {
    "tags": []
   },
   "outputs": [],
   "source": [
    "ridge = RidgeClassifier()"
   ]
  },
  {
   "cell_type": "code",
   "execution_count": 193,
   "id": "d1f15a52-2916-4b7d-9616-89b84a7ba6b7",
   "metadata": {
    "tags": []
   },
   "outputs": [
    {
     "name": "stdout",
     "output_type": "stream",
     "text": [
      "Train Accuracy :  0.9988852070486515\n",
      "Test Accuracy :  0.99875355500158\n"
     ]
    }
   ],
   "source": [
    "\n",
    "ridge_model = ridge.fit(X_train, y_train)\n",
    "\n",
    "print('Train Accuracy : ', ridge_model.score(X_train, y_train))\n",
    "print('Test Accuracy : ',ridge_model.score(X_test, y_test))"
   ]
  },
  {
   "cell_type": "code",
   "execution_count": 194,
   "id": "78f5b09b-2051-493b-bf46-e619de08a709",
   "metadata": {
    "scrolled": true,
    "tags": []
   },
   "outputs": [
    {
     "data": {
      "text/plain": [
       "array([0, 0, 0, ..., 0, 0, 0], dtype=int64)"
      ]
     },
     "execution_count": 194,
     "metadata": {},
     "output_type": "execute_result"
    }
   ],
   "source": [
    "pred_train_ridge = ridge_model.predict(X_train)\n",
    "pred_test_ridge = ridge_model.predict(X_test)\n",
    "pred_test_ridge"
   ]
  },
  {
   "cell_type": "code",
   "execution_count": 195,
   "id": "b29a6c9b-eef2-4cba-b93a-8167eaeb5d1f",
   "metadata": {
    "tags": []
   },
   "outputs": [
    {
     "name": "stdout",
     "output_type": "stream",
     "text": [
      "<Confusion matrix>\n",
      "[[56843     7]\n",
      " [   64    48]]\n"
     ]
    }
   ],
   "source": [
    "from sklearn.metrics import confusion_matrix\n",
    "\n",
    "confusion_ridge = confusion_matrix(y_test, pred_test_ridge)\n",
    "\n",
    "\n",
    "print('<Confusion matrix>')\n",
    "print(confusion_ridge)"
   ]
  },
  {
   "cell_type": "code",
   "execution_count": 196,
   "id": "bb20104e-12ae-424e-98f5-997aa767006e",
   "metadata": {
    "tags": []
   },
   "outputs": [
    {
     "data": {
      "text/plain": [
       "Text(50.722222222222214, 0.5, 'True label')"
      ]
     },
     "execution_count": 196,
     "metadata": {},
     "output_type": "execute_result"
    },
    {
     "data": {
      "image/png": "[encoded data removed]",
      "text/plain": [
       "<Figure size 640x480 with 2 Axes>"
      ]
     },
     "metadata": {},
     "output_type": "display_data"
    }
   ],
   "source": [
    "import seaborn as sns\n",
    "class_names = ['Authentic', 'Fraudulent']\n",
    "sns.heatmap(confusion_ridge, annot = True)\n",
    "tick_marks_y = [0.25, 1.2]\n",
    "tick_marks_x = [0.5, 1.5]\n",
    "\n",
    "plt.yticks(tick_marks_y, class_names, rotation = 'vertical')\n",
    "plt.xticks(tick_marks_x, class_names, rotation = 'horizontal')\n",
    "plt.xlabel(\"Predicted label\")\n",
    "plt.ylabel(\"True label\")"
   ]
  },
  {
   "cell_type": "markdown",
   "id": "dc03a3f5-6b4f-4e93-9f44-70eff047a0dd",
   "metadata": {},
   "source": [
    "### Q6. Ridge regression 모델의 performance metric score를 출력하고 저장하기"
   ]
  },
  {
   "cell_type": "code",
   "execution_count": 201,
   "id": "1d5ce94a-2d03-41f1-941c-113b34c8b0a3",
   "metadata": {
    "scrolled": true,
    "tags": []
   },
   "outputs": [
    {
     "name": "stdout",
     "output_type": "stream",
     "text": [
      "Accuracy:1.00, Precision: 0.873, Recall: 0.429\n"
     ]
    }
   ],
   "source": [
    "def performance_metric(confusion_ridge):\n",
    "    \n",
    "    TN_ridge = confusion_ridge[0, 0]\n",
    "    FP_ridge = confusion_ridge[0, 1]\n",
    "    FN_ridge = confusion_ridge[1, 0]\n",
    "    TP_ridge = confusion_ridge[1, 1]\n",
    "\n",
    "    accuracy_ridge = (TP_ridge + TN_ridge) / (TP_ridge + TN_ridge + FP_ridge + FN_ridge)\n",
    "    precision_ridge = TP_ridge / (TP_ridge + FP_ridge)\n",
    "    recall_ridge = TP_ridge / (TP_ridge + FN_ridge) \n",
    "\n",
    "    return accuracy_ridge, precision_ridge, recall_ridge, TP_ridge, FN_ridge, TN_ridge, FP_ridge\n",
    "\n",
    "    \n",
    "accuracy_ridge, precision_ridge, recall_ridge, TP_ridge, FN_ridge, TN_ridge, FP_ridge = performance_metric(confusion_ridge)\n",
    "print(f'Accuracy:{accuracy_ridge:.2f}, Precision: {precision_ridge:.3f}, Recall: {recall_ridge:.3f}')### Q6답안을 작성하세요 ####"
   ]
  },
  {
   "cell_type": "code",
   "execution_count": 202,
   "id": "4fc5a78a-4709-46ac-9a3c-99b0ea1d3ab7",
   "metadata": {
    "tags": []
   },
   "outputs": [
    {
     "data": {
      "text/html": [
       "<div>\n",
       "<style scoped>\n",
       "    .dataframe tbody tr th:only-of-type {\n",
       "        vertical-align: middle;\n",
       "    }\n",
       "\n",
       "    .dataframe tbody tr th {\n",
       "        vertical-align: top;\n",
       "    }\n",
       "\n",
       "    .dataframe thead th {\n",
       "        text-align: right;\n",
       "    }\n",
       "</style>\n",
       "<table border=\"1\" class=\"dataframe\">\n",
       "  <thead>\n",
       "    <tr style=\"text-align: right;\">\n",
       "      <th></th>\n",
       "      <th>Model</th>\n",
       "      <th>Accuracy</th>\n",
       "      <th>Precision</th>\n",
       "      <th>Recall</th>\n",
       "    </tr>\n",
       "  </thead>\n",
       "  <tbody>\n",
       "    <tr>\n",
       "      <th>0</th>\n",
       "      <td>RandomForest</td>\n",
       "      <td>1.00</td>\n",
       "      <td>0.873</td>\n",
       "      <td>0.857</td>\n",
       "    </tr>\n",
       "    <tr>\n",
       "      <th>1</th>\n",
       "      <td>RandomForest2</td>\n",
       "      <td>1.00</td>\n",
       "      <td>0.933</td>\n",
       "      <td>0.866</td>\n",
       "    </tr>\n",
       "    <tr>\n",
       "      <th>2</th>\n",
       "      <td>Linear Regression</td>\n",
       "      <td>0.96</td>\n",
       "      <td>0.044</td>\n",
       "      <td>0.929</td>\n",
       "    </tr>\n",
       "    <tr>\n",
       "      <th>3</th>\n",
       "      <td>Ridge Regression</td>\n",
       "      <td>1.00</td>\n",
       "      <td>0.873</td>\n",
       "      <td>0.429</td>\n",
       "    </tr>\n",
       "  </tbody>\n",
       "</table>\n",
       "</div>"
      ],
      "text/plain": [
       "               Model  Accuracy  Precision  Recall\n",
       "0       RandomForest      1.00      0.873   0.857\n",
       "1      RandomForest2      1.00      0.933   0.866\n",
       "2  Linear Regression      0.96      0.044   0.929\n",
       "3   Ridge Regression      1.00      0.873   0.429"
      ]
     },
     "execution_count": 202,
     "metadata": {},
     "output_type": "execute_result"
    }
   ],
   "source": [
    "new_row = {\"Model\": \"Ridge Regression\", \"Accuracy\":1.00,\"Precision\":0.873,\"Recall\":0.429}### Q6답안을 작성하세요 ####\n",
    "models.loc[len(models)] = new_row\n",
    "models"
   ]
  },
  {
   "cell_type": "code",
   "execution_count": 203,
   "id": "fe014e64-7ae3-4db1-8d20-e24d6a9efba6",
   "metadata": {
    "tags": []
   },
   "outputs": [
    {
     "data": {
      "text/html": [
       "<iframe\n",
       "    scrolling=\"no\"\n",
       "    width=\"100%\"\n",
       "    height=\"470\"\n",
       "    src=\"iframe_figures/figure_203.html\"\n",
       "    frameborder=\"0\"\n",
       "    allowfullscreen\n",
       "></iframe>\n"
      ]
     },
     "metadata": {},
     "output_type": "display_data"
    }
   ],
   "source": [
    "fig1 = make_subplots(rows = 1, cols = 2, specs = [[{\"type\": \"pie\"}, {\"type\": \"pie\"}]])\n",
    "\n",
    "fig1.add_trace(go.Pie(\n",
    "    labels = ['TP', 'FN'],\n",
    "    values = [TP_ridge, FN_ridge],\n",
    "    domain = dict(x = [0, 0.4]),\n",
    "    name = 'Positive Class'), \n",
    "    row = 1, col = 1)\n",
    "\n",
    "fig1.add_trace(go.Pie(\n",
    "    labels = ['TN', 'FP'],\n",
    "    values = [TN_ridge, FP_ridge],\n",
    "    domain = dict(x = [0.4, 0.8]),\n",
    "    name = 'Negative Class'),\n",
    "    row = 1, col = 2)\n",
    "\n",
    "fig1.update_layout(height = 450, showlegend = True)\n",
    "fig1.show()"
   ]
  },
  {
   "cell_type": "markdown",
   "id": "2052ba9a-3a71-4c97-9fb6-e756783a2d70",
   "metadata": {},
   "source": [
    "### Q7. random forest, GridSearch 적용한 Random forest, linear regression, ridge regression 모델들의 performance score 출력"
   ]
  },
  {
   "cell_type": "code",
   "execution_count": 204,
   "id": "2b85eb15-52d0-4652-ae35-16ac69bb5fb0",
   "metadata": {
    "scrolled": true,
    "tags": []
   },
   "outputs": [
    {
     "data": {
      "text/html": [
       "<div>\n",
       "<style scoped>\n",
       "    .dataframe tbody tr th:only-of-type {\n",
       "        vertical-align: middle;\n",
       "    }\n",
       "\n",
       "    .dataframe tbody tr th {\n",
       "        vertical-align: top;\n",
       "    }\n",
       "\n",
       "    .dataframe thead th {\n",
       "        text-align: right;\n",
       "    }\n",
       "</style>\n",
       "<table border=\"1\" class=\"dataframe\">\n",
       "  <thead>\n",
       "    <tr style=\"text-align: right;\">\n",
       "      <th></th>\n",
       "      <th>Model</th>\n",
       "      <th>Accuracy</th>\n",
       "      <th>Precision</th>\n",
       "      <th>Recall</th>\n",
       "    </tr>\n",
       "  </thead>\n",
       "  <tbody>\n",
       "    <tr>\n",
       "      <th>0</th>\n",
       "      <td>RandomForest</td>\n",
       "      <td>1.00</td>\n",
       "      <td>0.873</td>\n",
       "      <td>0.857</td>\n",
       "    </tr>\n",
       "    <tr>\n",
       "      <th>1</th>\n",
       "      <td>RandomForest2</td>\n",
       "      <td>1.00</td>\n",
       "      <td>0.933</td>\n",
       "      <td>0.866</td>\n",
       "    </tr>\n",
       "    <tr>\n",
       "      <th>2</th>\n",
       "      <td>Linear Regression</td>\n",
       "      <td>0.96</td>\n",
       "      <td>0.044</td>\n",
       "      <td>0.929</td>\n",
       "    </tr>\n",
       "    <tr>\n",
       "      <th>3</th>\n",
       "      <td>Ridge Regression</td>\n",
       "      <td>1.00</td>\n",
       "      <td>0.873</td>\n",
       "      <td>0.429</td>\n",
       "    </tr>\n",
       "  </tbody>\n",
       "</table>\n",
       "</div>"
      ],
      "text/plain": [
       "               Model  Accuracy  Precision  Recall\n",
       "0       RandomForest      1.00      0.873   0.857\n",
       "1      RandomForest2      1.00      0.933   0.866\n",
       "2  Linear Regression      0.96      0.044   0.929\n",
       "3   Ridge Regression      1.00      0.873   0.429"
      ]
     },
     "execution_count": 204,
     "metadata": {},
     "output_type": "execute_result"
    }
   ],
   "source": [
    "models"
   ]
  },
  {
   "cell_type": "markdown",
   "id": "4832f4ff-5523-43df-a10b-19496acf8184",
   "metadata": {},
   "source": [
    "### Q8. 위의 결과를 보고 신용카드 사기 거래 탐지를 더 잘하기 위해서는 어떤 모델을 사용해야할까요? 그 이유도 작성해주세요."
   ]
  },
  {
   "cell_type": "markdown",
   "id": "4b7a4f03-f23c-4f51-a7ac-2f156b733419",
   "metadata": {},
   "source": [
    "### answer : 예를 들어 1개의 거래만 ‘사기’라고 예측해서 실제로 맞히면 Precision은 1(100%) 입니다. 반면에 전체 거래가 ‘사기’라고 예측하면 Recall은 무조건 1(100%) 입니다. 이 각각의 지표가 갖는 바가 중요합니다. Precision을 높이면 Recall이 낮아지고, 반대로 Recall을 높이면 Precision이 낮아질 수 밖에 없는 관계다. 그래서 Precision, Recall 중 어느 하나에 치우친 지표가 아니라 Precision과 Recall의 조화평균인 F1-score를 가장 중요한 평가지표로 다룰 것입니다. 이 때 밑에 코드에서 보듯 F1-score가 가장 높은 RandomForest2를 사용할 것이다."
   ]
  },
  {
   "cell_type": "code",
   "execution_count": 7,
   "id": "c4b442a8-0a88-4362-ab74-db6ba642a200",
   "metadata": {},
   "outputs": [
    {
     "name": "stdout",
     "output_type": "stream",
     "text": [
      "RandomForest - [F1-score]: 0.8649260115606936\n",
      "RandomForest2 - [F1-score]: 0.8982523624235688\n",
      "Linear Regression - [F1-score]: 0.08402055498458376\n",
      "Ridge Regression - [F1-score]: 0.575294930875576\n"
     ]
    }
   ],
   "source": [
    "# F1-score\n",
    "print(\"RandomForest - [F1-score]:\",2*((0.873*0.857)/(0.873+0.857)))\n",
    "print(\"RandomForest2 - [F1-score]:\",2*((0.933*0.866)/(0.933+0.866)))\n",
    "print(\"Linear Regression - [F1-score]:\",2*((0.044*0.929)/(0.044+0.929)))\n",
    "print(\"Ridge Regression - [F1-score]:\",2*((0.873*0.429)/(0.873+0.429)))"
   ]
  },
  {
   "cell_type": "code",
   "execution_count": null,
   "id": "96a78f6e-6e19-42a6-b245-846e44da7ace",
   "metadata": {},
   "outputs": [],
   "source": []
  }
 ],
 "metadata": {
  "kernelspec": {
   "display_name": "Python 3 (ipykernel)",
   "language": "python",
   "name": "python3"
  },
  "language_info": {
   "codemirror_mode": {
    "name": "ipython",
    "version": 3
   },
   "file_extension": ".py",
   "mimetype": "text/x-python",
   "name": "python",
   "nbconvert_exporter": "python",
   "pygments_lexer": "ipython3",
   "version": "3.8.17"
  }
 },
 "nbformat": 4,
 "nbformat_minor": 5
}
