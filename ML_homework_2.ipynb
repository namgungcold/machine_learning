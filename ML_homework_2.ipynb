{
 "cells": [
  {
   "cell_type": "markdown",
   "id": "2b8a674d-910a-4729-91cf-6444a26b5b95",
   "metadata": {},
   "source": [
    "# **머신러닝 실습 과제 Task 2**\n",
    "\n",
    "## 실습과제 소개\n",
    "본 과제는 주고객이 구매하지 않은 상품에 대해 요금이 청구되지 않도록 신용카드 회사가 `신용카드 사기 거래를 식별`하는 것이 목표입니다.\n",
    "\n",
    "## 파일 구성\n",
    " - **creditcard.csv**:\n",
    "\n",
    "## 특성(feature), 타켓(target)설명\n",
    " - feature\n",
    "     - `Time` : 거래 시간\n",
    "     - `amount` : 거래 양\n",
    "     - `v1` ~ `v23` feature들은 익명처리되어 있습니다.\n",
    " - target\n",
    "     - `Class`: 0->정상 거래, 1->사기 거래, \n",
    "\n",
    "## 평가 측도\n",
    " - **`Accuracy`**: 높을수록 좋음\n",
    "\n",
    "## 제출 안내\n",
    " - 스마트리드 과제란에 주피터 노트북 파일을 제출 (본인학번_이름_ML_homework2.ipynb)로 저장."
   ]
  },
  {
   "cell_type": "code",
   "execution_count": 1,
   "id": "f48228b6-a7bb-4ce7-b4c4-0c7adcbe3dfe",
   "metadata": {
    "tags": []
   },
   "outputs": [
    {
     "data": {
      "text/html": [
       "        <script type=\"text/javascript\">\n",
       "        window.PlotlyConfig = {MathJaxConfig: 'local'};\n",
       "        if (window.MathJax && window.MathJax.Hub && window.MathJax.Hub.Config) {window.MathJax.Hub.Config({SVG: {font: \"STIX-Web\"}});}\n",
       "        if (typeof require !== 'undefined') {\n",
       "        require.undef(\"plotly\");\n",
       "        requirejs.config({\n",
       "            paths: {\n",
       "                'plotly': ['https://cdn.plot.ly/plotly-2.27.0.min']\n",
       "            }\n",
       "        });\n",
       "        require(['plotly'], function(Plotly) {\n",
       "            window._Plotly = Plotly;\n",
       "        });\n",
       "        }\n",
       "        </script>\n",
       "        "
      ]
     },
     "metadata": {},
     "output_type": "display_data"
    },
    {
     "data": {
      "text/html": [
       "        <script type=\"text/javascript\">\n",
       "        window.PlotlyConfig = {MathJaxConfig: 'local'};\n",
       "        if (window.MathJax && window.MathJax.Hub && window.MathJax.Hub.Config) {window.MathJax.Hub.Config({SVG: {font: \"STIX-Web\"}});}\n",
       "        if (typeof require !== 'undefined') {\n",
       "        require.undef(\"plotly\");\n",
       "        requirejs.config({\n",
       "            paths: {\n",
       "                'plotly': ['https://cdn.plot.ly/plotly-2.27.0.min']\n",
       "            }\n",
       "        });\n",
       "        require(['plotly'], function(Plotly) {\n",
       "            window._Plotly = Plotly;\n",
       "        });\n",
       "        }\n",
       "        </script>\n",
       "        "
      ]
     },
     "metadata": {},
     "output_type": "display_data"
    }
   ],
   "source": [
    "# Importing necessary libraries\n",
    "\n",
    "import numpy as np\n",
    "import pandas as pd\n",
    "import math\n",
    "import matplotlib.pyplot as plt\n",
    "import seaborn as sns\n",
    "import plotly.express as px\n",
    "\n",
    "\n",
    "from plotly.subplots import make_subplots\n",
    "import plotly.graph_objects as go\n",
    "from plotly.offline import init_notebook_mode, iplot\n",
    "init_notebook_mode(connected=True)\n",
    "\n",
    "import plotly.offline as pyo\n",
    "pyo.init_notebook_mode(connected=True)\n",
    "\n",
    "import shutil\n",
    "columns = shutil.get_terminal_size().columns\n",
    "\n",
    "from sklearn.model_selection import train_test_split\n",
    "from sklearn import metrics\n",
    "from sklearn.preprocessing import MinMaxScaler\n",
    "\n",
    "# from sklearn.metrics import plot_confusion_matrix\n",
    "from sklearn.metrics import average_precision_score\n",
    "\n",
    "from sklearn.linear_model import LogisticRegression\n",
    "from sklearn.linear_model import RidgeClassifier\n",
    "from sklearn.linear_model import Ridge\n",
    "from sklearn.linear_model import Lasso\n",
    "import imblearn\n",
    "from imblearn.under_sampling import RandomUnderSampler\n",
    "from imblearn.over_sampling import RandomOverSampler\n",
    "\n",
    "from IPython.display import Javascript\n",
    "from IPython.display import display"
   ]
  },
  {
   "cell_type": "markdown",
   "id": "99357839-8341-4b2f-b311-2ca2e3213afb",
   "metadata": {},
   "source": [
    "### 데이터 불러오기 "
   ]
  },
  {
   "cell_type": "code",
   "execution_count": null,
   "id": "4da17869-65cb-4fc3-a273-62e787b5514d",
   "metadata": {},
   "outputs": [],
   "source": [
    "!"
   ]
  },
  {
   "cell_type": "code",
   "execution_count": 141,
   "id": "68017f27-5f47-4bb3-b920-bbb6cd2ed530",
   "metadata": {},
   "outputs": [
    {
     "data": {
      "text/plain": [
       "'D:\\\\asy10\\\\문서\\\\대학원\\\\조교수업\\\\2023-2\\\\머신러닝\\\\실습과제\\\\Credit_Card_Fraud_Detection\\\\data'"
      ]
     },
     "execution_count": 141,
     "metadata": {},
     "output_type": "execute_result"
    }
   ],
   "source": [
    "pwd "
   ]
  },
  {
   "cell_type": "code",
   "execution_count": 2,
   "id": "d6cbda73-2b21-4c28-9c80-cac699ef071f",
   "metadata": {
    "tags": []
   },
   "outputs": [
    {
     "data": {
      "text/html": [
       "<div>\n",
       "<style scoped>\n",
       "    .dataframe tbody tr th:only-of-type {\n",
       "        vertical-align: middle;\n",
       "    }\n",
       "\n",
       "    .dataframe tbody tr th {\n",
       "        vertical-align: top;\n",
       "    }\n",
       "\n",
       "    .dataframe thead th {\n",
       "        text-align: right;\n",
       "    }\n",
       "</style>\n",
       "<table border=\"1\" class=\"dataframe\">\n",
       "  <thead>\n",
       "    <tr style=\"text-align: right;\">\n",
       "      <th></th>\n",
       "      <th>Time</th>\n",
       "      <th>V1</th>\n",
       "      <th>V2</th>\n",
       "      <th>V3</th>\n",
       "      <th>V4</th>\n",
       "      <th>V5</th>\n",
       "      <th>V6</th>\n",
       "      <th>V7</th>\n",
       "      <th>V8</th>\n",
       "      <th>V9</th>\n",
       "      <th>...</th>\n",
       "      <th>V21</th>\n",
       "      <th>V22</th>\n",
       "      <th>V23</th>\n",
       "      <th>V24</th>\n",
       "      <th>V25</th>\n",
       "      <th>V26</th>\n",
       "      <th>V27</th>\n",
       "      <th>V28</th>\n",
       "      <th>Amount</th>\n",
       "      <th>Class</th>\n",
       "    </tr>\n",
       "  </thead>\n",
       "  <tbody>\n",
       "    <tr>\n",
       "      <th>0</th>\n",
       "      <td>0.0</td>\n",
       "      <td>-1.359807</td>\n",
       "      <td>-0.072781</td>\n",
       "      <td>2.536347</td>\n",
       "      <td>1.378155</td>\n",
       "      <td>-0.338321</td>\n",
       "      <td>0.462388</td>\n",
       "      <td>0.239599</td>\n",
       "      <td>0.098698</td>\n",
       "      <td>0.363787</td>\n",
       "      <td>...</td>\n",
       "      <td>-0.018307</td>\n",
       "      <td>0.277838</td>\n",
       "      <td>-0.110474</td>\n",
       "      <td>0.066928</td>\n",
       "      <td>0.128539</td>\n",
       "      <td>-0.189115</td>\n",
       "      <td>0.133558</td>\n",
       "      <td>-0.021053</td>\n",
       "      <td>149.62</td>\n",
       "      <td>0</td>\n",
       "    </tr>\n",
       "    <tr>\n",
       "      <th>1</th>\n",
       "      <td>0.0</td>\n",
       "      <td>1.191857</td>\n",
       "      <td>0.266151</td>\n",
       "      <td>0.166480</td>\n",
       "      <td>0.448154</td>\n",
       "      <td>0.060018</td>\n",
       "      <td>-0.082361</td>\n",
       "      <td>-0.078803</td>\n",
       "      <td>0.085102</td>\n",
       "      <td>-0.255425</td>\n",
       "      <td>...</td>\n",
       "      <td>-0.225775</td>\n",
       "      <td>-0.638672</td>\n",
       "      <td>0.101288</td>\n",
       "      <td>-0.339846</td>\n",
       "      <td>0.167170</td>\n",
       "      <td>0.125895</td>\n",
       "      <td>-0.008983</td>\n",
       "      <td>0.014724</td>\n",
       "      <td>2.69</td>\n",
       "      <td>0</td>\n",
       "    </tr>\n",
       "    <tr>\n",
       "      <th>2</th>\n",
       "      <td>1.0</td>\n",
       "      <td>-1.358354</td>\n",
       "      <td>-1.340163</td>\n",
       "      <td>1.773209</td>\n",
       "      <td>0.379780</td>\n",
       "      <td>-0.503198</td>\n",
       "      <td>1.800499</td>\n",
       "      <td>0.791461</td>\n",
       "      <td>0.247676</td>\n",
       "      <td>-1.514654</td>\n",
       "      <td>...</td>\n",
       "      <td>0.247998</td>\n",
       "      <td>0.771679</td>\n",
       "      <td>0.909412</td>\n",
       "      <td>-0.689281</td>\n",
       "      <td>-0.327642</td>\n",
       "      <td>-0.139097</td>\n",
       "      <td>-0.055353</td>\n",
       "      <td>-0.059752</td>\n",
       "      <td>378.66</td>\n",
       "      <td>0</td>\n",
       "    </tr>\n",
       "    <tr>\n",
       "      <th>3</th>\n",
       "      <td>1.0</td>\n",
       "      <td>-0.966272</td>\n",
       "      <td>-0.185226</td>\n",
       "      <td>1.792993</td>\n",
       "      <td>-0.863291</td>\n",
       "      <td>-0.010309</td>\n",
       "      <td>1.247203</td>\n",
       "      <td>0.237609</td>\n",
       "      <td>0.377436</td>\n",
       "      <td>-1.387024</td>\n",
       "      <td>...</td>\n",
       "      <td>-0.108300</td>\n",
       "      <td>0.005274</td>\n",
       "      <td>-0.190321</td>\n",
       "      <td>-1.175575</td>\n",
       "      <td>0.647376</td>\n",
       "      <td>-0.221929</td>\n",
       "      <td>0.062723</td>\n",
       "      <td>0.061458</td>\n",
       "      <td>123.50</td>\n",
       "      <td>0</td>\n",
       "    </tr>\n",
       "    <tr>\n",
       "      <th>4</th>\n",
       "      <td>2.0</td>\n",
       "      <td>-1.158233</td>\n",
       "      <td>0.877737</td>\n",
       "      <td>1.548718</td>\n",
       "      <td>0.403034</td>\n",
       "      <td>-0.407193</td>\n",
       "      <td>0.095921</td>\n",
       "      <td>0.592941</td>\n",
       "      <td>-0.270533</td>\n",
       "      <td>0.817739</td>\n",
       "      <td>...</td>\n",
       "      <td>-0.009431</td>\n",
       "      <td>0.798278</td>\n",
       "      <td>-0.137458</td>\n",
       "      <td>0.141267</td>\n",
       "      <td>-0.206010</td>\n",
       "      <td>0.502292</td>\n",
       "      <td>0.219422</td>\n",
       "      <td>0.215153</td>\n",
       "      <td>69.99</td>\n",
       "      <td>0</td>\n",
       "    </tr>\n",
       "    <tr>\n",
       "      <th>...</th>\n",
       "      <td>...</td>\n",
       "      <td>...</td>\n",
       "      <td>...</td>\n",
       "      <td>...</td>\n",
       "      <td>...</td>\n",
       "      <td>...</td>\n",
       "      <td>...</td>\n",
       "      <td>...</td>\n",
       "      <td>...</td>\n",
       "      <td>...</td>\n",
       "      <td>...</td>\n",
       "      <td>...</td>\n",
       "      <td>...</td>\n",
       "      <td>...</td>\n",
       "      <td>...</td>\n",
       "      <td>...</td>\n",
       "      <td>...</td>\n",
       "      <td>...</td>\n",
       "      <td>...</td>\n",
       "      <td>...</td>\n",
       "      <td>...</td>\n",
       "    </tr>\n",
       "    <tr>\n",
       "      <th>284802</th>\n",
       "      <td>172786.0</td>\n",
       "      <td>-11.881118</td>\n",
       "      <td>10.071785</td>\n",
       "      <td>-9.834783</td>\n",
       "      <td>-2.066656</td>\n",
       "      <td>-5.364473</td>\n",
       "      <td>-2.606837</td>\n",
       "      <td>-4.918215</td>\n",
       "      <td>7.305334</td>\n",
       "      <td>1.914428</td>\n",
       "      <td>...</td>\n",
       "      <td>0.213454</td>\n",
       "      <td>0.111864</td>\n",
       "      <td>1.014480</td>\n",
       "      <td>-0.509348</td>\n",
       "      <td>1.436807</td>\n",
       "      <td>0.250034</td>\n",
       "      <td>0.943651</td>\n",
       "      <td>0.823731</td>\n",
       "      <td>0.77</td>\n",
       "      <td>0</td>\n",
       "    </tr>\n",
       "    <tr>\n",
       "      <th>284803</th>\n",
       "      <td>172787.0</td>\n",
       "      <td>-0.732789</td>\n",
       "      <td>-0.055080</td>\n",
       "      <td>2.035030</td>\n",
       "      <td>-0.738589</td>\n",
       "      <td>0.868229</td>\n",
       "      <td>1.058415</td>\n",
       "      <td>0.024330</td>\n",
       "      <td>0.294869</td>\n",
       "      <td>0.584800</td>\n",
       "      <td>...</td>\n",
       "      <td>0.214205</td>\n",
       "      <td>0.924384</td>\n",
       "      <td>0.012463</td>\n",
       "      <td>-1.016226</td>\n",
       "      <td>-0.606624</td>\n",
       "      <td>-0.395255</td>\n",
       "      <td>0.068472</td>\n",
       "      <td>-0.053527</td>\n",
       "      <td>24.79</td>\n",
       "      <td>0</td>\n",
       "    </tr>\n",
       "    <tr>\n",
       "      <th>284804</th>\n",
       "      <td>172788.0</td>\n",
       "      <td>1.919565</td>\n",
       "      <td>-0.301254</td>\n",
       "      <td>-3.249640</td>\n",
       "      <td>-0.557828</td>\n",
       "      <td>2.630515</td>\n",
       "      <td>3.031260</td>\n",
       "      <td>-0.296827</td>\n",
       "      <td>0.708417</td>\n",
       "      <td>0.432454</td>\n",
       "      <td>...</td>\n",
       "      <td>0.232045</td>\n",
       "      <td>0.578229</td>\n",
       "      <td>-0.037501</td>\n",
       "      <td>0.640134</td>\n",
       "      <td>0.265745</td>\n",
       "      <td>-0.087371</td>\n",
       "      <td>0.004455</td>\n",
       "      <td>-0.026561</td>\n",
       "      <td>67.88</td>\n",
       "      <td>0</td>\n",
       "    </tr>\n",
       "    <tr>\n",
       "      <th>284805</th>\n",
       "      <td>172788.0</td>\n",
       "      <td>-0.240440</td>\n",
       "      <td>0.530483</td>\n",
       "      <td>0.702510</td>\n",
       "      <td>0.689799</td>\n",
       "      <td>-0.377961</td>\n",
       "      <td>0.623708</td>\n",
       "      <td>-0.686180</td>\n",
       "      <td>0.679145</td>\n",
       "      <td>0.392087</td>\n",
       "      <td>...</td>\n",
       "      <td>0.265245</td>\n",
       "      <td>0.800049</td>\n",
       "      <td>-0.163298</td>\n",
       "      <td>0.123205</td>\n",
       "      <td>-0.569159</td>\n",
       "      <td>0.546668</td>\n",
       "      <td>0.108821</td>\n",
       "      <td>0.104533</td>\n",
       "      <td>10.00</td>\n",
       "      <td>0</td>\n",
       "    </tr>\n",
       "    <tr>\n",
       "      <th>284806</th>\n",
       "      <td>172792.0</td>\n",
       "      <td>-0.533413</td>\n",
       "      <td>-0.189733</td>\n",
       "      <td>0.703337</td>\n",
       "      <td>-0.506271</td>\n",
       "      <td>-0.012546</td>\n",
       "      <td>-0.649617</td>\n",
       "      <td>1.577006</td>\n",
       "      <td>-0.414650</td>\n",
       "      <td>0.486180</td>\n",
       "      <td>...</td>\n",
       "      <td>0.261057</td>\n",
       "      <td>0.643078</td>\n",
       "      <td>0.376777</td>\n",
       "      <td>0.008797</td>\n",
       "      <td>-0.473649</td>\n",
       "      <td>-0.818267</td>\n",
       "      <td>-0.002415</td>\n",
       "      <td>0.013649</td>\n",
       "      <td>217.00</td>\n",
       "      <td>0</td>\n",
       "    </tr>\n",
       "  </tbody>\n",
       "</table>\n",
       "<p>284807 rows × 31 columns</p>\n",
       "</div>"
      ],
      "text/plain": [
       "            Time         V1         V2        V3        V4        V5  \\\n",
       "0            0.0  -1.359807  -0.072781  2.536347  1.378155 -0.338321   \n",
       "1            0.0   1.191857   0.266151  0.166480  0.448154  0.060018   \n",
       "2            1.0  -1.358354  -1.340163  1.773209  0.379780 -0.503198   \n",
       "3            1.0  -0.966272  -0.185226  1.792993 -0.863291 -0.010309   \n",
       "4            2.0  -1.158233   0.877737  1.548718  0.403034 -0.407193   \n",
       "...          ...        ...        ...       ...       ...       ...   \n",
       "284802  172786.0 -11.881118  10.071785 -9.834783 -2.066656 -5.364473   \n",
       "284803  172787.0  -0.732789  -0.055080  2.035030 -0.738589  0.868229   \n",
       "284804  172788.0   1.919565  -0.301254 -3.249640 -0.557828  2.630515   \n",
       "284805  172788.0  -0.240440   0.530483  0.702510  0.689799 -0.377961   \n",
       "284806  172792.0  -0.533413  -0.189733  0.703337 -0.506271 -0.012546   \n",
       "\n",
       "              V6        V7        V8        V9  ...       V21       V22  \\\n",
       "0       0.462388  0.239599  0.098698  0.363787  ... -0.018307  0.277838   \n",
       "1      -0.082361 -0.078803  0.085102 -0.255425  ... -0.225775 -0.638672   \n",
       "2       1.800499  0.791461  0.247676 -1.514654  ...  0.247998  0.771679   \n",
       "3       1.247203  0.237609  0.377436 -1.387024  ... -0.108300  0.005274   \n",
       "4       0.095921  0.592941 -0.270533  0.817739  ... -0.009431  0.798278   \n",
       "...          ...       ...       ...       ...  ...       ...       ...   \n",
       "284802 -2.606837 -4.918215  7.305334  1.914428  ...  0.213454  0.111864   \n",
       "284803  1.058415  0.024330  0.294869  0.584800  ...  0.214205  0.924384   \n",
       "284804  3.031260 -0.296827  0.708417  0.432454  ...  0.232045  0.578229   \n",
       "284805  0.623708 -0.686180  0.679145  0.392087  ...  0.265245  0.800049   \n",
       "284806 -0.649617  1.577006 -0.414650  0.486180  ...  0.261057  0.643078   \n",
       "\n",
       "             V23       V24       V25       V26       V27       V28  Amount  \\\n",
       "0      -0.110474  0.066928  0.128539 -0.189115  0.133558 -0.021053  149.62   \n",
       "1       0.101288 -0.339846  0.167170  0.125895 -0.008983  0.014724    2.69   \n",
       "2       0.909412 -0.689281 -0.327642 -0.139097 -0.055353 -0.059752  378.66   \n",
       "3      -0.190321 -1.175575  0.647376 -0.221929  0.062723  0.061458  123.50   \n",
       "4      -0.137458  0.141267 -0.206010  0.502292  0.219422  0.215153   69.99   \n",
       "...          ...       ...       ...       ...       ...       ...     ...   \n",
       "284802  1.014480 -0.509348  1.436807  0.250034  0.943651  0.823731    0.77   \n",
       "284803  0.012463 -1.016226 -0.606624 -0.395255  0.068472 -0.053527   24.79   \n",
       "284804 -0.037501  0.640134  0.265745 -0.087371  0.004455 -0.026561   67.88   \n",
       "284805 -0.163298  0.123205 -0.569159  0.546668  0.108821  0.104533   10.00   \n",
       "284806  0.376777  0.008797 -0.473649 -0.818267 -0.002415  0.013649  217.00   \n",
       "\n",
       "        Class  \n",
       "0           0  \n",
       "1           0  \n",
       "2           0  \n",
       "3           0  \n",
       "4           0  \n",
       "...       ...  \n",
       "284802      0  \n",
       "284803      0  \n",
       "284804      0  \n",
       "284805      0  \n",
       "284806      0  \n",
       "\n",
       "[284807 rows x 31 columns]"
      ]
     },
     "execution_count": 2,
     "metadata": {},
     "output_type": "execute_result"
    }
   ],
   "source": [
    "data = pd.read_csv('./creditcard.csv')\n",
    "data"
   ]
  },
  {
   "cell_type": "code",
   "execution_count": 3,
   "id": "518b0000-a03a-4257-a6a1-ee8a94ea7341",
   "metadata": {
    "tags": []
   },
   "outputs": [
    {
     "name": "stdout",
     "output_type": "stream",
     "text": [
      "<class 'pandas.core.frame.DataFrame'>\n",
      "RangeIndex: 284807 entries, 0 to 284806\n",
      "Data columns (total 31 columns):\n",
      " #   Column  Non-Null Count   Dtype  \n",
      "---  ------  --------------   -----  \n",
      " 0   Time    284807 non-null  float64\n",
      " 1   V1      284807 non-null  float64\n",
      " 2   V2      284807 non-null  float64\n",
      " 3   V3      284807 non-null  float64\n",
      " 4   V4      284807 non-null  float64\n",
      " 5   V5      284807 non-null  float64\n",
      " 6   V6      284807 non-null  float64\n",
      " 7   V7      284807 non-null  float64\n",
      " 8   V8      284807 non-null  float64\n",
      " 9   V9      284807 non-null  float64\n",
      " 10  V10     284807 non-null  float64\n",
      " 11  V11     284807 non-null  float64\n",
      " 12  V12     284807 non-null  float64\n",
      " 13  V13     284807 non-null  float64\n",
      " 14  V14     284807 non-null  float64\n",
      " 15  V15     284807 non-null  float64\n",
      " 16  V16     284807 non-null  float64\n",
      " 17  V17     284807 non-null  float64\n",
      " 18  V18     284807 non-null  float64\n",
      " 19  V19     284807 non-null  float64\n",
      " 20  V20     284807 non-null  float64\n",
      " 21  V21     284807 non-null  float64\n",
      " 22  V22     284807 non-null  float64\n",
      " 23  V23     284807 non-null  float64\n",
      " 24  V24     284807 non-null  float64\n",
      " 25  V25     284807 non-null  float64\n",
      " 26  V26     284807 non-null  float64\n",
      " 27  V27     284807 non-null  float64\n",
      " 28  V28     284807 non-null  float64\n",
      " 29  Amount  284807 non-null  float64\n",
      " 30  Class   284807 non-null  int64  \n",
      "dtypes: float64(30), int64(1)\n",
      "memory usage: 67.4 MB\n"
     ]
    }
   ],
   "source": [
    "data.info()"
   ]
  },
  {
   "cell_type": "code",
   "execution_count": 4,
   "id": "dbea0dd8-9360-4f0c-84e4-43c541590b34",
   "metadata": {
    "tags": []
   },
   "outputs": [
    {
     "data": {
      "text/plain": [
       "Time      124592\n",
       "V1        275663\n",
       "V2        275663\n",
       "V3        275663\n",
       "V4        275663\n",
       "V5        275663\n",
       "V6        275663\n",
       "V7        275663\n",
       "V8        275663\n",
       "V9        275663\n",
       "V10       275663\n",
       "V11       275663\n",
       "V12       275663\n",
       "V13       275663\n",
       "V14       275663\n",
       "V15       275663\n",
       "V16       275663\n",
       "V17       275663\n",
       "V18       275663\n",
       "V19       275663\n",
       "V20       275663\n",
       "V21       275663\n",
       "V22       275663\n",
       "V23       275663\n",
       "V24       275663\n",
       "V25       275663\n",
       "V26       275663\n",
       "V27       275663\n",
       "V28       275663\n",
       "Amount     32767\n",
       "Class          2\n",
       "dtype: int64"
      ]
     },
     "execution_count": 4,
     "metadata": {},
     "output_type": "execute_result"
    }
   ],
   "source": [
    "data.nunique()"
   ]
  },
  {
   "cell_type": "markdown",
   "id": "c68e59a7-7ee5-4ab4-afca-9e3947917087",
   "metadata": {},
   "source": [
    "### 결측치 확인 "
   ]
  },
  {
   "cell_type": "code",
   "execution_count": 5,
   "id": "5accf84e-9de5-404e-b68a-3643b1561b6e",
   "metadata": {
    "scrolled": true,
    "tags": []
   },
   "outputs": [
    {
     "data": {
      "text/plain": [
       "Time      0\n",
       "V1        0\n",
       "V2        0\n",
       "V3        0\n",
       "V4        0\n",
       "V5        0\n",
       "V6        0\n",
       "V7        0\n",
       "V8        0\n",
       "V9        0\n",
       "V10       0\n",
       "V11       0\n",
       "V12       0\n",
       "V13       0\n",
       "V14       0\n",
       "V15       0\n",
       "V16       0\n",
       "V17       0\n",
       "V18       0\n",
       "V19       0\n",
       "V20       0\n",
       "V21       0\n",
       "V22       0\n",
       "V23       0\n",
       "V24       0\n",
       "V25       0\n",
       "V26       0\n",
       "V27       0\n",
       "V28       0\n",
       "Amount    0\n",
       "Class     0\n",
       "dtype: int64"
      ]
     },
     "execution_count": 5,
     "metadata": {},
     "output_type": "execute_result"
    }
   ],
   "source": [
    "data.isnull().sum()"
   ]
  },
  {
   "cell_type": "markdown",
   "id": "93def35e-dfdc-4cb2-8e8a-f4404636410f",
   "metadata": {},
   "source": [
    "### Quiz1. 데이터셋 분할하기\n",
    "- 이전 과제처럼 train.csv, test.csv 파일이 따로 있는 것이 아닙니다. 이점 유의 하세요."
   ]
  },
  {
   "cell_type": "code",
   "execution_count": 6,
   "id": "1c5acea0-cc33-476c-80e3-e178439ad9a2",
   "metadata": {
    "tags": []
   },
   "outputs": [],
   "source": [
    "\n",
    "\n",
    "X = data.drop('Class', axis=1) \n",
    "y = data['Class']\n",
    "\n",
    "\n",
    "X_train, X_test, y_train, y_test = train_test_split(X, y, test_size = 0.2, random_state = 25)"
   ]
  },
  {
   "cell_type": "code",
   "execution_count": 7,
   "id": "05217085-91c9-4074-8bc9-ddb491b6e502",
   "metadata": {
    "tags": []
   },
   "outputs": [
    {
     "data": {
      "text/plain": [
       "((227845, 30), (227845,))"
      ]
     },
     "execution_count": 7,
     "metadata": {},
     "output_type": "execute_result"
    }
   ],
   "source": [
    "X_train.shape, y_train.shape"
   ]
  },
  {
   "cell_type": "code",
   "execution_count": 8,
   "id": "9509501a-fdbd-4452-a148-1f926dafc74c",
   "metadata": {
    "tags": []
   },
   "outputs": [],
   "source": [
    "import plotly.io as pio\n",
    "pio.renderers.default = 'iframe' # or 'colab' or 'iframe' or 'iframe_connected' or 'sphinx_gallery'"
   ]
  },
  {
   "cell_type": "code",
   "execution_count": 9,
   "id": "ee77680d-5217-4f43-b25b-bc506981f242",
   "metadata": {
    "tags": []
   },
   "outputs": [
    {
     "data": {
      "text/plain": [
       "Class\n",
       "0    227465\n",
       "1       380\n",
       "Name: count, dtype: int64"
      ]
     },
     "execution_count": 9,
     "metadata": {},
     "output_type": "execute_result"
    }
   ],
   "source": [
    "y_train.value_counts()"
   ]
  },
  {
   "cell_type": "code",
   "execution_count": 10,
   "id": "32aeefb1-3a5e-4a1a-9457-b435efaeb1f6",
   "metadata": {
    "tags": []
   },
   "outputs": [
    {
     "data": {
      "text/html": [
       "<iframe\n",
       "    scrolling=\"no\"\n",
       "    width=\"100%\"\n",
       "    height=\"545px\"\n",
       "    src=\"iframe_figures/figure_10.html\"\n",
       "    frameborder=\"0\"\n",
       "    allowfullscreen\n",
       "></iframe>\n"
      ]
     },
     "metadata": {},
     "output_type": "display_data"
    }
   ],
   "source": [
    "z = list(y_train)\n",
    "\n",
    "count0 = 0\n",
    "count1 = 0\n",
    "\n",
    "for i in z:\n",
    "    if i == 0:\n",
    "        count0 = count0 + 1\n",
    "    elif i == 1:\n",
    "        count1 = count1 + 1\n",
    "\n",
    "# Class frequencies\n",
    "\n",
    "class_label_train = ['Authentic', 'Fraud']\n",
    "class_frequency_train = [count0, count1]\n",
    "\n",
    "fig1 = px.pie(values = class_frequency_train,\n",
    "             names = class_label_train,\n",
    "             title = 'Frequency comparison of authentic and fraudulent transactions in the training dataset',\n",
    "             template = 'ggplot2'\n",
    "            )\n",
    "fig1.show()"
   ]
  },
  {
   "cell_type": "markdown",
   "id": "81509c54-1c39-4f1b-bd91-dd0a85108a01",
   "metadata": {},
   "source": [
    "### Quiz2. 데이터셋 분할하기\n",
    "- data_train에 feature와 타켓 label이 모두 있는 데이터 프레임을 생성하세요. (이전 과제의 train.csv를 만든다고 생각하시면 됩니다.)\n",
    "- data_train에서 사기 데이터, 사기가 아닌 데이터 프레임을 생성하세요."
   ]
  },
  {
   "cell_type": "code",
   "execution_count": 11,
   "id": "a4891132-12b1-4417-b99a-10a5e6eb3c8e",
   "metadata": {
    "tags": []
   },
   "outputs": [],
   "source": [
    "\n",
    "selected_features = ['Time'] + [f'V{i}' for i in range(1, 29)] + ['Amount']\n",
    "data_train = pd.DataFrame(X_train[selected_features].copy())\n",
    "data_train['Class'] = y_train\n",
    "\n",
    "data_train_authentic = data_train[data_train['Class'] == 0]\n",
    "data_train_fraudulent = data_train[data_train['Class'] == 1]"
   ]
  },
  {
   "cell_type": "code",
   "execution_count": null,
   "id": "e4823433-4761-460d-a3e0-02de389e135b",
   "metadata": {
    "tags": []
   },
   "outputs": [],
   "source": []
  },
  {
   "cell_type": "code",
   "execution_count": 12,
   "id": "c4bd29e4-48a3-4dc2-a5d6-934b9a1a8890",
   "metadata": {
    "tags": []
   },
   "outputs": [
    {
     "data": {
      "text/plain": [
       "(227845, 31)"
      ]
     },
     "execution_count": 12,
     "metadata": {},
     "output_type": "execute_result"
    }
   ],
   "source": [
    "data_train.shape"
   ]
  },
  {
   "cell_type": "markdown",
   "id": "660d16b8-c45e-4b54-b835-99c9ecf66e29",
   "metadata": {},
   "source": [
    "### train set에서 사기가 아닌 거래와 사기 거래의 양과 시간"
   ]
  },
  {
   "cell_type": "code",
   "execution_count": 13,
   "id": "7b613e84-8ade-4059-9f86-75352fc6af1c",
   "metadata": {
    "tags": []
   },
   "outputs": [
    {
     "data": {
      "text/html": [
       "<iframe\n",
       "    scrolling=\"no\"\n",
       "    width=\"100%\"\n",
       "    height=\"545px\"\n",
       "    src=\"iframe_figures/figure_13.html\"\n",
       "    frameborder=\"0\"\n",
       "    allowfullscreen\n",
       "></iframe>\n"
      ]
     },
     "metadata": {},
     "output_type": "display_data"
    }
   ],
   "source": [
    "class_list_train = list(y_train)\n",
    "fraud_status_train = []\n",
    "for i in range(len(class_list_train)):\n",
    "    fraud_status_train.append(bool(class_list_train[i]))\n",
    "\n",
    "fig1 = px.scatter(data_train,\n",
    "                 x = 'Time',\n",
    "                 y = 'Amount', \n",
    "                 facet_col = fraud_status_train,\n",
    "                 color = fraud_status_train,\n",
    "                 title = 'Amount vs Time for the training set',\n",
    "                 template = 'ggplot2'\n",
    "                )\n",
    "fig1.show()"
   ]
  },
  {
   "cell_type": "markdown",
   "id": "d3d1ba9e-83f3-4bb8-b563-bb1d8d6aaa4a",
   "metadata": {},
   "source": [
    "### Quiz3. 데이터셋 분할하기\n",
    "- 현재 사용하는 데이터셋의 문제점을 작성하세요\n",
    "- answer : 데이터가 불균형이라 학습이 제대로 되지 못한다."
   ]
  },
  {
   "cell_type": "markdown",
   "id": "47dcf852-e957-41a9-a301-e1a07043d45f",
   "metadata": {},
   "source": [
    "### Random over-sampling (ROS)\n",
    "- train dataset의 균형을 맞추기 위해 다수 클래스의 하위 집합을 사용합니다."
   ]
  },
  {
   "cell_type": "code",
   "execution_count": 15,
   "id": "3d8692ca-e326-4c39-964e-a2575e609a8d",
   "metadata": {
    "tags": []
   },
   "outputs": [
    {
     "name": "stdout",
     "output_type": "stream",
     "text": [
      "Class frequencies after over-sampling:\n",
      "Class\n",
      "0    227465\n",
      "1    227465\n",
      "Name: count, dtype: int64\n"
     ]
    },
    {
     "data": {
      "text/plain": [
       "<Axes: title={'center': 'Class frequencies after over-sampling'}, xlabel='Class'>"
      ]
     },
     "execution_count": 15,
     "metadata": {},
     "output_type": "execute_result"
    },
    {
     "data": {
      "image/png": "[encoded data removed]",
      "text/plain": [
       "<Figure size 640x480 with 1 Axes>"
      ]
     },
     "metadata": {},
     "output_type": "display_data"
    }
   ],
   "source": [
    "data_train_fraudulent_over = data_train_fraudulent.sample(len(data_train_authentic), replace = 'True')\n",
    "data_train_over = pd.concat([data_train_authentic, data_train_fraudulent_over], axis = 0)\n",
    "\n",
    "X_train_over = data_train_over.drop('Class', axis = 1)\n",
    "y_train_over = data_train_over['Class']\n",
    "\n",
    "print('Class frequencies after over-sampling:')\n",
    "print(y_train_over.value_counts())\n",
    "y_train_over.value_counts().plot(kind = 'bar', title = 'Class frequencies after over-sampling')"
   ]
  },
  {
   "cell_type": "code",
   "execution_count": 16,
   "id": "29fa14bf-90a6-4200-ad60-79ba975d0d7c",
   "metadata": {
    "tags": []
   },
   "outputs": [
    {
     "data": {
      "text/html": [
       "<iframe\n",
       "    scrolling=\"no\"\n",
       "    width=\"100%\"\n",
       "    height=\"545px\"\n",
       "    src=\"iframe_figures/figure_16.html\"\n",
       "    frameborder=\"0\"\n",
       "    allowfullscreen\n",
       "></iframe>\n"
      ]
     },
     "metadata": {},
     "output_type": "display_data"
    }
   ],
   "source": [
    "# Amount vs Time for authentic and fraudulent transactions in the training set after random over-sampling\n",
    "\n",
    "class_list = list(y_train_over)\n",
    "fraud_status = []\n",
    "for i in range(len(class_list)):\n",
    "    fraud_status.append(bool(class_list[i]))\n",
    "\n",
    "fig1 = px.scatter(data_train_over,\n",
    "                 x = 'Time',\n",
    "                 y = 'Amount', \n",
    "                 facet_col = fraud_status,\n",
    "                 color = fraud_status,\n",
    "                 title = 'Amount vs Time',\n",
    "                 template = 'ggplot2'\n",
    "                )\n",
    "fig1.show()"
   ]
  },
  {
   "cell_type": "markdown",
   "id": "0551b73f-7183-415a-9915-17c0a2163bee",
   "metadata": {},
   "source": [
    "### Feature Scaling\n",
    "- 데이터 스케일링을 통해 모든 피처들의 샘플 데이터 분포와 범위를 동일하게 조정합니다.\n",
    "- 참고 : https://dacon.io/codeshare/4526"
   ]
  },
  {
   "cell_type": "code",
   "execution_count": 17,
   "id": "ec6bf09a-7c87-411a-b83d-7531b7532e2c",
   "metadata": {
    "tags": []
   },
   "outputs": [
    {
     "data": {
      "image/png": "[encoded data removed]",
      "text/plain": [
       "<Figure size 640x480 with 1 Axes>"
      ]
     },
     "metadata": {},
     "output_type": "display_data"
    }
   ],
   "source": [
    "plt.hist(X_train_over, bins=30, alpha = 0.7, density = True)\n",
    "plt.title('before StandardScaler')\n",
    "\n",
    "plt.show()"
   ]
  },
  {
   "cell_type": "code",
   "execution_count": 18,
   "id": "d1986c84-9c33-41f5-a647-7c41c6f4a47f",
   "metadata": {
    "tags": []
   },
   "outputs": [],
   "source": [
    "scaling = MinMaxScaler(feature_range = (-1,1)).fit(X_train)\n",
    "\n",
    "X_train_over_scaled_minmax = scaling.transform(X_train_over)\n",
    "X_test_scaled_minmax = scaling.transform(X_test)"
   ]
  },
  {
   "cell_type": "code",
   "execution_count": 19,
   "id": "6649d3c3-1a2d-4a02-bbb8-4bbf06002032",
   "metadata": {
    "scrolled": true,
    "tags": []
   },
   "outputs": [
    {
     "data": {
      "image/png": "[encoded data removed]",
      "text/plain": [
       "<Figure size 640x480 with 1 Axes>"
      ]
     },
     "metadata": {},
     "output_type": "display_data"
    }
   ],
   "source": [
    "plt.hist(X_train_over_scaled_minmax, bins=30, alpha = 0.7, density = True)\n",
    "plt.title('after StandardScaler')\n",
    "plt.show()"
   ]
  },
  {
   "cell_type": "markdown",
   "id": "82df37ed-b0ef-4c24-9be5-df2d15e1ca40",
   "metadata": {},
   "source": [
    "### Quiz4. Logistic Regression\n",
    "4-1. 데이터에 랜덤 오버 샘플링 적용하지 않고 모델을 학습합니다.\n",
    "\n",
    "4-2. confusion matrix를 출력합니다.\n",
    "\n",
    "4-3. accuracy, precision, recall, TP, FN, TN, FP 값을 리턴하는 performance_metric 함수를 작성하세요\n"
   ]
  },
  {
   "cell_type": "code",
   "execution_count": 20,
   "id": "3ce24e93-6dec-40e0-9c8c-8701ad3e64bd",
   "metadata": {
    "tags": []
   },
   "outputs": [
    {
     "name": "stdout",
     "output_type": "stream",
     "text": [
      "<Confusion matrix>\n",
      "[[56823    27]\n",
      " [   30    82]]\n"
     ]
    },
    {
     "name": "stderr",
     "output_type": "stream",
     "text": [
      "C:\\Users\\chan\\anaconda3\\envs\\proj\\lib\\site-packages\\sklearn\\linear_model\\_logistic.py:460: ConvergenceWarning:\n",
      "\n",
      "lbfgs failed to converge (status=1):\n",
      "STOP: TOTAL NO. of ITERATIONS REACHED LIMIT.\n",
      "\n",
      "Increase the number of iterations (max_iter) or scale the data as shown in:\n",
      "    https://scikit-learn.org/stable/modules/preprocessing.html\n",
      "Please also refer to the documentation for alternative solver options:\n",
      "    https://scikit-learn.org/stable/modules/linear_model.html#logistic-regression\n",
      "\n"
     ]
    }
   ],
   "source": [
    "from sklearn.linear_model import LogisticRegression \n",
    "from sklearn.metrics import confusion_matrix\n",
    "\n",
    "model = LogisticRegression(random_state=42)\n",
    "model.fit(X_train, y_train)\n",
    "pred_train = model.predict(X_train)\n",
    "pred_test = model.predict(X_test)\n",
    "\n",
    "confusion = confusion_matrix(y_test, pred_test)\n",
    "\n",
    "print('<Confusion matrix>')\n",
    "print(confusion)\n"
   ]
  },
  {
   "cell_type": "code",
   "execution_count": 21,
   "id": "e1e9995e-1c10-47e0-8765-51920728d631",
   "metadata": {
    "tags": []
   },
   "outputs": [
    {
     "data": {
      "text/plain": [
       "Text(50.722222222222214, 0.5, 'True label')"
      ]
     },
     "execution_count": 21,
     "metadata": {},
     "output_type": "execute_result"
    },
    {
     "data": {
      "image/png": "[encoded data removed]",
      "text/plain": [
       "<Figure size 640x480 with 2 Axes>"
      ]
     },
     "metadata": {},
     "output_type": "display_data"
    }
   ],
   "source": [
    "import seaborn as sns\n",
    "class_names = ['Authentic', 'Fraudulent']\n",
    "sns.heatmap(confusion, annot = True)\n",
    "tick_marks_y = [0.25, 1.2]\n",
    "tick_marks_x = [0.5, 1.5]\n",
    "\n",
    "plt.yticks(tick_marks_y, class_names, rotation = 'vertical')\n",
    "plt.xticks(tick_marks_x, class_names, rotation = 'horizontal')\n",
    "plt.xlabel(\"Predicted label\")\n",
    "plt.ylabel(\"True label\")"
   ]
  },
  {
   "cell_type": "code",
   "execution_count": 22,
   "id": "6c47f11e-af6c-4f97-9b23-dc4be3dcb693",
   "metadata": {
    "tags": []
   },
   "outputs": [],
   "source": [
    "def performance_metric(confusion_matrix):\n",
    "    \n",
    "    TN = confusion_matrix[0, 0]\n",
    "    FP = confusion_matrix[0, 1]\n",
    "    FN = confusion_matrix[1, 0]\n",
    "    TP = confusion_matrix[1, 1]\n",
    "\n",
    "    accuracy = (TP + TN) / (TP + TN + FP + FN)\n",
    "    precision = TP / (TP + FP)\n",
    "    recall = TP / (TP + FN) \n",
    "\n",
    "    \n",
    "    return accuracy, precision, recall, TP, FN, TN, FP\n",
    "\n",
    "    \n",
    "    "
   ]
  },
  {
   "cell_type": "code",
   "execution_count": 23,
   "id": "ef851cc4-d0fc-4553-9c6e-9164665a71d4",
   "metadata": {
    "tags": []
   },
   "outputs": [
    {
     "name": "stdout",
     "output_type": "stream",
     "text": [
      "Accuracy:1.00, Precision: 0.75, Recall: 0.73\n"
     ]
    }
   ],
   "source": [
    "accuracy, precision, recall, TP, FN, TN, FP = performance_metric(confusion)\n",
    "print(f'Accuracy:{accuracy:.2f}, Precision: {precision:.2f}, Recall: {recall:.2f}')"
   ]
  },
  {
   "cell_type": "code",
   "execution_count": 24,
   "id": "88c46f6a-ac5a-4f0b-8716-a78ec29afa35",
   "metadata": {
    "tags": []
   },
   "outputs": [
    {
     "data": {
      "text/html": [
       "<iframe\n",
       "    scrolling=\"no\"\n",
       "    width=\"100%\"\n",
       "    height=\"470\"\n",
       "    src=\"iframe_figures/figure_24.html\"\n",
       "    frameborder=\"0\"\n",
       "    allowfullscreen\n",
       "></iframe>\n"
      ]
     },
     "metadata": {},
     "output_type": "display_data"
    }
   ],
   "source": [
    "fig1 = make_subplots(rows = 1, cols = 2, specs = [[{\"type\": \"pie\"}, {\"type\": \"pie\"}]])\n",
    "\n",
    "fig1.add_trace(go.Pie(\n",
    "    labels = ['TP', 'FN'],\n",
    "    values = [TP, FN],\n",
    "    domain = dict(x = [0, 0.4]),\n",
    "    name = 'Positive Class'), \n",
    "    row = 1, col = 1)\n",
    "\n",
    "fig1.add_trace(go.Pie(\n",
    "    labels = ['TN', 'FP'],\n",
    "    values = [TN, FP],\n",
    "    domain = dict(x = [0.4, 0.8]),\n",
    "    name = 'Negative Class'),\n",
    "    row = 1, col = 2)\n",
    "\n",
    "fig1.update_layout(height = 450, showlegend = True)\n",
    "fig1.show()"
   ]
  },
  {
   "cell_type": "markdown",
   "id": "8ae7701d-7848-43a1-9d80-a4e141394404",
   "metadata": {},
   "source": [
    "\n",
    "### Quiz5. Logistic Regression\n",
    "5-1. 데이터에 랜덤 오버 샘플링 적용하고 모델을 학습합니다.\n",
    "\n",
    "5-2. confusion matrix를 출력합니다.\n",
    "\n",
    "5-3. accuracy, precision, recall, TP, FN, TN, FP 값을 출력하세요."
   ]
  },
  {
   "cell_type": "code",
   "execution_count": 26,
   "id": "bad8ebb3-d169-475e-9798-6c1d773e0044",
   "metadata": {
    "tags": []
   },
   "outputs": [
    {
     "name": "stdout",
     "output_type": "stream",
     "text": [
      "<Confusion matrix>\n",
      "[[54105  2745]\n",
      " [    8   104]]\n"
     ]
    }
   ],
   "source": [
    "from sklearn.linear_model import LogisticRegression \n",
    "\n",
    "model_over= LogisticRegression(random_state=42)### 이곳에 5-1 답을 작성하세요 ####\n",
    "model_over.fit(X_train_over, y_train_over)\n",
    "\n",
    "pred_train_over = model_over.predict(X_train_over)\n",
    "pred_test_over = model_over.predict(X_test)\n",
    "\n",
    "confusion_over = confusion_matrix(y_test, pred_test_over)### 이곳에 5-2 답을 작성하세요 ####\n",
    "\n",
    "print('<Confusion matrix>')\n",
    "print(confusion_over)"
   ]
  },
  {
   "cell_type": "code",
   "execution_count": 27,
   "id": "24468f28-156c-4aff-ba30-2f43a5c4eef6",
   "metadata": {
    "tags": []
   },
   "outputs": [
    {
     "data": {
      "text/plain": [
       "Text(50.722222222222214, 0.5, 'True label')"
      ]
     },
     "execution_count": 27,
     "metadata": {},
     "output_type": "execute_result"
    },
    {
     "data": {
      "image/png": "[encoded data removed]",
      "text/plain": [
       "<Figure size 640x480 with 2 Axes>"
      ]
     },
     "metadata": {},
     "output_type": "display_data"
    }
   ],
   "source": [
    "import seaborn as sns\n",
    "class_names = ['Authentic', 'Fraudulent']\n",
    "sns.heatmap(confusion_over, annot = True)\n",
    "tick_marks_y = [0.25, 1.2]\n",
    "tick_marks_x = [0.5, 1.5]\n",
    "\n",
    "plt.yticks(tick_marks_y, class_names, rotation = 'vertical')\n",
    "plt.xticks(tick_marks_x, class_names, rotation = 'horizontal')\n",
    "plt.xlabel(\"Predicted label\")\n",
    "plt.ylabel(\"True label\")"
   ]
  },
  {
   "cell_type": "code",
   "execution_count": 36,
   "id": "5c44c422-8493-4df6-9522-3a95a1e11228",
   "metadata": {
    "tags": []
   },
   "outputs": [
    {
     "name": "stdout",
     "output_type": "stream",
     "text": [
      "Accuracy:0.95, Precision: 0.04, Recall: 0.93\n"
     ]
    }
   ],
   "source": [
    "### 이곳에 5-3 답을 작성하세요 ####\n",
    "def performance_metric(confusion_over):\n",
    "    \n",
    "    TN_over = confusion_over[0, 0]\n",
    "    FP_over = confusion_over[0, 1]\n",
    "    FN_over = confusion_over[1, 0]\n",
    "    TP_over = confusion_over[1, 1]\n",
    "\n",
    "    accuracy_over = (TP_over + TN_over) / (TP_over + TN_over + FP_over + FN_over)\n",
    "    precision_over = TP_over / (TP_over + FP_over)\n",
    "    recall_over = TP_over / (TP_over + FN_over) \n",
    "\n",
    "    \n",
    "    return accuracy_over, precision_over, recall_over, TP_over, FN_over, TN_over, FP_over\n",
    "\n",
    "    \n",
    "accuracy_over, precision_over, recall_over, TP_over, FN_over, TN_over, FP_over = performance_metric(confusion_over)\n",
    "\n",
    "\n",
    "print(f'Accuracy:{accuracy_over:.2f}, Precision: {precision_over:.2f}, Recall: {recall_over:.2f}')"
   ]
  },
  {
   "cell_type": "code",
   "execution_count": 37,
   "id": "f9cb5d2d-95f3-43de-874e-579db6b5efa1",
   "metadata": {
    "tags": []
   },
   "outputs": [
    {
     "data": {
      "text/html": [
       "<iframe\n",
       "    scrolling=\"no\"\n",
       "    width=\"100%\"\n",
       "    height=\"470\"\n",
       "    src=\"iframe_figures/figure_37.html\"\n",
       "    frameborder=\"0\"\n",
       "    allowfullscreen\n",
       "></iframe>\n"
      ]
     },
     "metadata": {},
     "output_type": "display_data"
    }
   ],
   "source": [
    "fig1 = make_subplots(rows = 1, cols = 2, specs = [[{\"type\": \"pie\"}, {\"type\": \"pie\"}]])\n",
    "\n",
    "fig1.add_trace(go.Pie(\n",
    "    labels = ['TP', 'FN'],\n",
    "    values = [TP_over, FN_over],\n",
    "    domain = dict(x = [0, 0.4]),\n",
    "    name = 'Positive Class'), \n",
    "    row = 1, col = 1)\n",
    "\n",
    "fig1.add_trace(go.Pie(\n",
    "    labels = ['TN', 'FP'],\n",
    "    values = [TN_over, FP_over],\n",
    "    domain = dict(x = [0.4, 0.8]),\n",
    "    name = 'Negative Class'),\n",
    "    row = 1, col = 2)\n",
    "\n",
    "fig1.update_layout(height = 450, showlegend = True)\n",
    "fig1.show()"
   ]
  },
  {
   "cell_type": "markdown",
   "id": "b9f69e8d-a58a-4a61-a057-adee1ecfb89f",
   "metadata": {},
   "source": [
    "### Quiz6. Ridge Classifier\n",
    "6-1. 데이터에 랜덤 오버 샘플링 적용하지않고  Ridge 모델을 학습합니다.\n",
    "\n",
    "6-2. confusion matrix를 출력합니다.\n",
    "\n",
    "6-3. accuracy, precision, recall, TP, FN, TN, FP 값을 출력하세요."
   ]
  },
  {
   "cell_type": "code",
   "execution_count": 32,
   "id": "d1f15a52-2916-4b7d-9616-89b84a7ba6b7",
   "metadata": {
    "tags": []
   },
   "outputs": [],
   "source": [
    "\n",
    "ridge_model = Ridge(random_state=42)\n",
    "ridge_model.fit(X_train,y_train)### 이곳에 6-1 답을 작성하세요 ####\n",
    "\n",
    "pred_train_ridge = ridge_model.predict(X_train)\n",
    "pred_test_ridge = ridge_model.predict(X_test)\n",
    "pred_test_ridge = (pred_test_ridge > 0.5).astype(int) \n",
    "# confusion_ridge = confusion_matrix(y_test, pred_test_ridge)"
   ]
  },
  {
   "cell_type": "code",
   "execution_count": 33,
   "id": "b29a6c9b-eef2-4cba-b93a-8167eaeb5d1f",
   "metadata": {
    "tags": []
   },
   "outputs": [
    {
     "name": "stdout",
     "output_type": "stream",
     "text": [
      "<Confusion matrix>\n",
      "[[56843     7]\n",
      " [   64    48]]\n"
     ]
    }
   ],
   "source": [
    "from sklearn.metrics import confusion_matrix\n",
    "\n",
    "confusion_ridge = confusion_matrix(y_test, pred_test_ridge)### 이곳에 6-2 답을 작성하세요 ####\n",
    "\n",
    "\n",
    "print('<Confusion matrix>')\n",
    "print(confusion_ridge)"
   ]
  },
  {
   "cell_type": "code",
   "execution_count": 34,
   "id": "bb20104e-12ae-424e-98f5-997aa767006e",
   "metadata": {
    "tags": []
   },
   "outputs": [
    {
     "data": {
      "text/plain": [
       "Text(50.722222222222214, 0.5, 'True label')"
      ]
     },
     "execution_count": 34,
     "metadata": {},
     "output_type": "execute_result"
    },
    {
     "data": {
      "image/png": "[encoded data removed]",
      "text/plain": [
       "<Figure size 640x480 with 2 Axes>"
      ]
     },
     "metadata": {},
     "output_type": "display_data"
    }
   ],
   "source": [
    "import seaborn as sns\n",
    "class_names = ['Authentic', 'Fraudulent']\n",
    "sns.heatmap(confusion_ridge, annot = True)\n",
    "tick_marks_y = [0.25, 1.2]\n",
    "tick_marks_x = [0.5, 1.5]\n",
    "\n",
    "plt.yticks(tick_marks_y, class_names, rotation = 'vertical')\n",
    "plt.xticks(tick_marks_x, class_names, rotation = 'horizontal')\n",
    "plt.xlabel(\"Predicted label\")\n",
    "plt.ylabel(\"True label\")"
   ]
  },
  {
   "cell_type": "code",
   "execution_count": 48,
   "id": "1d5ce94a-2d03-41f1-941c-113b34c8b0a3",
   "metadata": {
    "tags": []
   },
   "outputs": [
    {
     "name": "stdout",
     "output_type": "stream",
     "text": [
      "Accuracy:1.00, Precision: 0.87, Recall: 0.43\n"
     ]
    }
   ],
   "source": [
    "### 이곳에 6-3 답을 작성하세요 ####\n",
    "def performance_metric(confusion_ridge):\n",
    "    \n",
    "    TN_ridge = confusion_ridge[0, 0]\n",
    "    FP_ridge = confusion_ridge[0, 1]\n",
    "    FN_ridge = confusion_ridge[1, 0]\n",
    "    TP_ridge = confusion_ridge[1, 1]\n",
    "\n",
    "    accuracy_ridge = (TP_ridge + TN_ridge) / (TP_ridge + TN_ridge + FP_ridge + FN_ridge)\n",
    "    precision_ridge = TP_ridge / (TP_ridge + FP_ridge)\n",
    "    recall_ridge = TP_ridge / (TP_ridge + FN_ridge) \n",
    "\n",
    "    return accuracy_ridge, precision_ridge, recall_ridge, TP_ridge, FN_ridge, TN_ridge, FP_ridge\n",
    "\n",
    "    \n",
    "accuracy_ridge, precision_ridge, recall_ridge, TP_ridge, FN_ridge, TN_ridge, FP_ridge = performance_metric(confusion_ridge)\n",
    "\n",
    "print(f'Accuracy:{accuracy_ridge:.2f}, Precision: {precision_ridge:.2f}, Recall: {recall_ridge:.2f}')"
   ]
  },
  {
   "cell_type": "code",
   "execution_count": 39,
   "id": "fe014e64-7ae3-4db1-8d20-e24d6a9efba6",
   "metadata": {
    "tags": []
   },
   "outputs": [
    {
     "data": {
      "text/html": [
       "<iframe\n",
       "    scrolling=\"no\"\n",
       "    width=\"100%\"\n",
       "    height=\"470\"\n",
       "    src=\"iframe_figures/figure_39.html\"\n",
       "    frameborder=\"0\"\n",
       "    allowfullscreen\n",
       "></iframe>\n"
      ]
     },
     "metadata": {},
     "output_type": "display_data"
    }
   ],
   "source": [
    "fig1 = make_subplots(rows = 1, cols = 2, specs = [[{\"type\": \"pie\"}, {\"type\": \"pie\"}]])\n",
    "\n",
    "fig1.add_trace(go.Pie(\n",
    "    labels = ['TP', 'FN'],\n",
    "    values = [TP_ridge, FN_ridge],\n",
    "    domain = dict(x = [0, 0.4]),\n",
    "    name = 'Positive Class'), \n",
    "    row = 1, col = 1)\n",
    "\n",
    "fig1.add_trace(go.Pie(\n",
    "    labels = ['TN', 'FP'],\n",
    "    values = [TN_ridge, FP_ridge],\n",
    "    domain = dict(x = [0.4, 0.8]),\n",
    "    name = 'Negative Class'),\n",
    "    row = 1, col = 2)\n",
    "\n",
    "fig1.update_layout(height = 450, showlegend = True)\n",
    "fig1.show()"
   ]
  },
  {
   "cell_type": "markdown",
   "id": "a5c336f2-0830-41d6-9909-10dcf6f12193",
   "metadata": {},
   "source": [
    "### Quiz7. 각 모델의 Accuracy, Precision, Recall을 모은 판다스 프레임을 생성하세요"
   ]
  },
  {
   "cell_type": "code",
   "execution_count": 47,
   "id": "a66fbd69-4f0c-4d14-9e08-8dd0368a5a5d",
   "metadata": {
    "tags": []
   },
   "outputs": [
    {
     "data": {
      "text/html": [
       "<div>\n",
       "<style scoped>\n",
       "    .dataframe tbody tr th:only-of-type {\n",
       "        vertical-align: middle;\n",
       "    }\n",
       "\n",
       "    .dataframe tbody tr th {\n",
       "        vertical-align: top;\n",
       "    }\n",
       "\n",
       "    .dataframe thead th {\n",
       "        text-align: right;\n",
       "    }\n",
       "</style>\n",
       "<table border=\"1\" class=\"dataframe\">\n",
       "  <thead>\n",
       "    <tr style=\"text-align: right;\">\n",
       "      <th></th>\n",
       "      <th>Accuracy</th>\n",
       "      <th>Precision</th>\n",
       "      <th>Recall</th>\n",
       "    </tr>\n",
       "    <tr>\n",
       "      <th>Metric</th>\n",
       "      <th></th>\n",
       "      <th></th>\n",
       "      <th></th>\n",
       "    </tr>\n",
       "  </thead>\n",
       "  <tbody>\n",
       "    <tr>\n",
       "      <th>Logistic Regression</th>\n",
       "      <td>0.998999</td>\n",
       "      <td>0.752294</td>\n",
       "      <td>0.732143</td>\n",
       "    </tr>\n",
       "    <tr>\n",
       "      <th>Logistic Regression with Over-sampling</th>\n",
       "      <td>0.951670</td>\n",
       "      <td>0.036504</td>\n",
       "      <td>0.928571</td>\n",
       "    </tr>\n",
       "    <tr>\n",
       "      <th>Ridge Regression</th>\n",
       "      <td>0.998754</td>\n",
       "      <td>0.872727</td>\n",
       "      <td>0.428571</td>\n",
       "    </tr>\n",
       "  </tbody>\n",
       "</table>\n",
       "</div>"
      ],
      "text/plain": [
       "                                        Accuracy  Precision    Recall\n",
       "Metric                                                               \n",
       "Logistic Regression                     0.998999   0.752294  0.732143\n",
       "Logistic Regression with Over-sampling  0.951670   0.036504  0.928571\n",
       "Ridge Regression                        0.998754   0.872727  0.428571"
      ]
     },
     "execution_count": 47,
     "metadata": {},
     "output_type": "execute_result"
    }
   ],
   "source": [
    "### 이곳에 Quiz7의 답을 작성하세요 ###\n",
    "import pandas as pd\n",
    "\n",
    "\n",
    "metrics_data = {\n",
    "    'Metric': ['Logistic Regression', 'Logistic Regression with Over-sampling', 'Ridge Regression'],\n",
    "    'Accuracy': [accuracy, accuracy_over, accuracy_ridge],\n",
    "    'Precision': [precision, precision_over, precision_ridge],\n",
    "    'Recall': [recall, recall_over, recall_ridge]\n",
    "}\n",
    "\n",
    "metrics_df = pd.DataFrame(metrics_data)\n",
    "metrics_df.set_index('Metric', inplace=True)\n",
    "\n",
    "\n",
    "metrics_df"
   ]
  },
  {
   "cell_type": "markdown",
   "id": "f114b12b-9fb3-4aae-a029-0202168283ea",
   "metadata": {},
   "source": [
    "### Quiz8\n",
    "- 이번 과제에서 한 데이터 처럼 클래스 간 데이터가 불균형 할 경우, 어떤 성능 지표를 가지고 모델의 학습정도를 파악 해야하는지 조사해서 작성하세요.\n",
    "\n",
    "- answer : Recall(재현율)은 분류 모델의 성능을 평가하기 위한 지표 중 하나로, 실제로 양성인 샘플 중에서 모델이 양성으로 정확히 예측한 샘플의 비율을 나타냅니다. Precision(정밀도)는 분류 모델의 성능을 평가하기 위한 지표 중 하나로, 모델이 양성으로 예측한 샘플 중에서 실제로 양성인 샘플의 비율을 나타냅니다. Precision은 모델이 분류한 양성 예측 중에서 실제로 양성인 비율을 나타내며, Recall은 실제 양성 중에서 모델이 양성으로 예측한 비율입니다. F1 score는 이 두 평가 지표를 모두 고려하여 수식은 2 * (Precision * Recall) / (Precision + Recall)이며 모델의 예측 성능을 평가하기 때문에, 정확한 예측과 재현율의 평균을 동시에 고려할 수 있는 장점이 있습니다."
   ]
  },
  {
   "cell_type": "code",
   "execution_count": null,
   "id": "6fae704e-933f-4d74-8cf2-a6087d69964a",
   "metadata": {},
   "outputs": [],
   "source": []
  },
  {
   "cell_type": "code",
   "execution_count": null,
   "id": "79757317-3ca5-4651-a659-220fc1fd36da",
   "metadata": {},
   "outputs": [],
   "source": []
  }
 ],
 "metadata": {
  "kernelspec": {
   "display_name": "Python 3 (ipykernel)",
   "language": "python",
   "name": "python3"
  },
  "language_info": {
   "codemirror_mode": {
    "name": "ipython",
    "version": 3
   },
   "file_extension": ".py",
   "mimetype": "text/x-python",
   "name": "python",
   "nbconvert_exporter": "python",
   "pygments_lexer": "ipython3",
   "version": "3.8.17"
  }
 },
 "nbformat": 4,
 "nbformat_minor": 5
}
